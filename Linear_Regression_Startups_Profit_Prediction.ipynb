{
 "cells": [
  {
   "cell_type": "markdown",
   "id": "cd066d55",
   "metadata": {},
   "source": [
    "## Regression Model for Startup Profit Prediction\n",
    "\n",
    "### Introduction:\n",
    "\n",
    "In today's competitive business landscape, startups are constantly seeking ways to maximize their profitability and gain a competitive edge. Predicting the potential profit of a startup is crucial for making informed decisions regarding investment, resource allocation, and strategic planning. In this project, we aim to develop a predictive model using linear regression techniques to forecast the profit of startup companies based on various factors such as R&D spending, administration costs, marketing expenditure, and geographic location.\n",
    "\n",
    "\n",
    "### Problem Statement:\n",
    "\n",
    "The objective of this project is to create a predictive model that accurately estimates the profit of startup companies in the USA. Leveraging a dataset containing information on 50 startup companies, including their R&D spending, administration costs, marketing expenditure, and state of operation, we will build a linear regression model capable of predicting the profit based on these input variables. The model will enable stakeholders, including investors and management teams, to make data-driven decisions and identify factors that significantly impact startup profitability.\n",
    "\n"
   ]
  },
  {
   "cell_type": "markdown",
   "id": "4f500a71",
   "metadata": {},
   "source": [
    "\n",
    "\n",
    "### Dataset Description:\n",
    "\n",
    "The dataset comprises records of 50 startup companies operating in various states across the USA. Each record contains the following features:\n",
    "\n",
    "- **R&D Spend:** The amount of money spent on research and development.\n",
    "- **Administration:** The expenditure on administrative activities.\n",
    "- **Marketing Spend:** The investment in marketing and promotional activities.\n",
    "- **State:** The state in which the startup operates.\n",
    "- **Profit:** The net profit earned by the startup."
   ]
  },
  {
   "cell_type": "markdown",
   "id": "0d7d71d5",
   "metadata": {},
   "source": [
    "### Following steps are followed in the case study\n",
    "\n",
    "- **Reading, Understanding and the data**\n",
    "- **Visualising the data**\n",
    "- **Preparing the data for modelling (train-test split, rescaling etc.)**\n",
    "- **Training the model**\n",
    "- **Residual analysis**\n",
    "- **Prediction and evaluation on the test set**"
   ]
  },
  {
   "cell_type": "markdown",
   "id": "222f27f8",
   "metadata": {},
   "source": [
    "## Import required libraries"
   ]
  },
  {
   "cell_type": "code",
   "execution_count": 1,
   "id": "1a80164a",
   "metadata": {},
   "outputs": [],
   "source": [
    "# Bypass warnings\n",
    "import warnings\n",
    "warnings.filterwarnings('ignore')"
   ]
  },
  {
   "cell_type": "code",
   "execution_count": 2,
   "id": "3c733ef6",
   "metadata": {},
   "outputs": [],
   "source": [
    "# import numpy, pandas and matplotlib visualisation libraries\n",
    "\n",
    "import numpy as np\n",
    "import pandas as pd\n",
    "import matplotlib.pyplot as plt\n",
    "%matplotlib inline\n",
    "import seaborn as sns"
   ]
  },
  {
   "cell_type": "code",
   "execution_count": 3,
   "id": "760562f8",
   "metadata": {},
   "outputs": [],
   "source": [
    "# Import libraries required for regression modelling\n",
    "\n",
    "import statsmodels\n",
    "import sklearn"
   ]
  },
  {
   "cell_type": "markdown",
   "id": "00a96887",
   "metadata": {},
   "source": [
    "#"
   ]
  },
  {
   "cell_type": "markdown",
   "id": "a80df6ca",
   "metadata": {},
   "source": [
    "## Step1: Reading and Understanding the data"
   ]
  },
  {
   "cell_type": "code",
   "execution_count": 4,
   "id": "4b35b9dd",
   "metadata": {},
   "outputs": [
    {
     "data": {
      "text/html": [
       "<div>\n",
       "<style scoped>\n",
       "    .dataframe tbody tr th:only-of-type {\n",
       "        vertical-align: middle;\n",
       "    }\n",
       "\n",
       "    .dataframe tbody tr th {\n",
       "        vertical-align: top;\n",
       "    }\n",
       "\n",
       "    .dataframe thead th {\n",
       "        text-align: right;\n",
       "    }\n",
       "</style>\n",
       "<table border=\"1\" class=\"dataframe\">\n",
       "  <thead>\n",
       "    <tr style=\"text-align: right;\">\n",
       "      <th></th>\n",
       "      <th>R&amp;D Spend</th>\n",
       "      <th>Administration</th>\n",
       "      <th>Marketing Spend</th>\n",
       "      <th>State</th>\n",
       "      <th>Profit</th>\n",
       "    </tr>\n",
       "  </thead>\n",
       "  <tbody>\n",
       "    <tr>\n",
       "      <th>0</th>\n",
       "      <td>165349.20</td>\n",
       "      <td>136897.80</td>\n",
       "      <td>471784.10</td>\n",
       "      <td>New York</td>\n",
       "      <td>192261.83</td>\n",
       "    </tr>\n",
       "    <tr>\n",
       "      <th>1</th>\n",
       "      <td>162597.70</td>\n",
       "      <td>151377.59</td>\n",
       "      <td>443898.53</td>\n",
       "      <td>California</td>\n",
       "      <td>191792.06</td>\n",
       "    </tr>\n",
       "    <tr>\n",
       "      <th>2</th>\n",
       "      <td>153441.51</td>\n",
       "      <td>101145.55</td>\n",
       "      <td>407934.54</td>\n",
       "      <td>Florida</td>\n",
       "      <td>191050.39</td>\n",
       "    </tr>\n",
       "    <tr>\n",
       "      <th>3</th>\n",
       "      <td>144372.41</td>\n",
       "      <td>118671.85</td>\n",
       "      <td>383199.62</td>\n",
       "      <td>New York</td>\n",
       "      <td>182901.99</td>\n",
       "    </tr>\n",
       "    <tr>\n",
       "      <th>4</th>\n",
       "      <td>142107.34</td>\n",
       "      <td>91391.77</td>\n",
       "      <td>366168.42</td>\n",
       "      <td>Florida</td>\n",
       "      <td>166187.94</td>\n",
       "    </tr>\n",
       "  </tbody>\n",
       "</table>\n",
       "</div>"
      ],
      "text/plain": [
       "   R&D Spend  Administration  Marketing Spend       State     Profit\n",
       "0  165349.20       136897.80        471784.10    New York  192261.83\n",
       "1  162597.70       151377.59        443898.53  California  191792.06\n",
       "2  153441.51       101145.55        407934.54     Florida  191050.39\n",
       "3  144372.41       118671.85        383199.62    New York  182901.99\n",
       "4  142107.34        91391.77        366168.42     Florida  166187.94"
      ]
     },
     "execution_count": 4,
     "metadata": {},
     "output_type": "execute_result"
    }
   ],
   "source": [
    "startup = pd.read_csv('50_Startups.csv')\n",
    "startup.head()"
   ]
  },
  {
   "cell_type": "code",
   "execution_count": 5,
   "id": "31375589",
   "metadata": {},
   "outputs": [
    {
     "name": "stdout",
     "output_type": "stream",
     "text": [
      "<class 'pandas.core.frame.DataFrame'>\n",
      "RangeIndex: 50 entries, 0 to 49\n",
      "Data columns (total 5 columns):\n",
      " #   Column           Non-Null Count  Dtype  \n",
      "---  ------           --------------  -----  \n",
      " 0   R&D Spend        50 non-null     float64\n",
      " 1   Administration   50 non-null     float64\n",
      " 2   Marketing Spend  50 non-null     float64\n",
      " 3   State            50 non-null     object \n",
      " 4   Profit           50 non-null     float64\n",
      "dtypes: float64(4), object(1)\n",
      "memory usage: 2.1+ KB\n"
     ]
    }
   ],
   "source": [
    "startup.info()"
   ]
  },
  {
   "cell_type": "code",
   "execution_count": 6,
   "id": "4141feb9",
   "metadata": {},
   "outputs": [
    {
     "data": {
      "text/html": [
       "<div>\n",
       "<style scoped>\n",
       "    .dataframe tbody tr th:only-of-type {\n",
       "        vertical-align: middle;\n",
       "    }\n",
       "\n",
       "    .dataframe tbody tr th {\n",
       "        vertical-align: top;\n",
       "    }\n",
       "\n",
       "    .dataframe thead th {\n",
       "        text-align: right;\n",
       "    }\n",
       "</style>\n",
       "<table border=\"1\" class=\"dataframe\">\n",
       "  <thead>\n",
       "    <tr style=\"text-align: right;\">\n",
       "      <th></th>\n",
       "      <th>R&amp;D Spend</th>\n",
       "      <th>Administration</th>\n",
       "      <th>Marketing Spend</th>\n",
       "      <th>Profit</th>\n",
       "    </tr>\n",
       "  </thead>\n",
       "  <tbody>\n",
       "    <tr>\n",
       "      <th>count</th>\n",
       "      <td>50.000000</td>\n",
       "      <td>50.000000</td>\n",
       "      <td>50.000000</td>\n",
       "      <td>50.000000</td>\n",
       "    </tr>\n",
       "    <tr>\n",
       "      <th>mean</th>\n",
       "      <td>73721.615600</td>\n",
       "      <td>121344.639600</td>\n",
       "      <td>211025.097800</td>\n",
       "      <td>112012.639200</td>\n",
       "    </tr>\n",
       "    <tr>\n",
       "      <th>std</th>\n",
       "      <td>45902.256482</td>\n",
       "      <td>28017.802755</td>\n",
       "      <td>122290.310726</td>\n",
       "      <td>40306.180338</td>\n",
       "    </tr>\n",
       "    <tr>\n",
       "      <th>min</th>\n",
       "      <td>0.000000</td>\n",
       "      <td>51283.140000</td>\n",
       "      <td>0.000000</td>\n",
       "      <td>14681.400000</td>\n",
       "    </tr>\n",
       "    <tr>\n",
       "      <th>25%</th>\n",
       "      <td>39936.370000</td>\n",
       "      <td>103730.875000</td>\n",
       "      <td>129300.132500</td>\n",
       "      <td>90138.902500</td>\n",
       "    </tr>\n",
       "    <tr>\n",
       "      <th>50%</th>\n",
       "      <td>73051.080000</td>\n",
       "      <td>122699.795000</td>\n",
       "      <td>212716.240000</td>\n",
       "      <td>107978.190000</td>\n",
       "    </tr>\n",
       "    <tr>\n",
       "      <th>75%</th>\n",
       "      <td>101602.800000</td>\n",
       "      <td>144842.180000</td>\n",
       "      <td>299469.085000</td>\n",
       "      <td>139765.977500</td>\n",
       "    </tr>\n",
       "    <tr>\n",
       "      <th>max</th>\n",
       "      <td>165349.200000</td>\n",
       "      <td>182645.560000</td>\n",
       "      <td>471784.100000</td>\n",
       "      <td>192261.830000</td>\n",
       "    </tr>\n",
       "  </tbody>\n",
       "</table>\n",
       "</div>"
      ],
      "text/plain": [
       "           R&D Spend  Administration  Marketing Spend         Profit\n",
       "count      50.000000       50.000000        50.000000      50.000000\n",
       "mean    73721.615600   121344.639600    211025.097800  112012.639200\n",
       "std     45902.256482    28017.802755    122290.310726   40306.180338\n",
       "min         0.000000    51283.140000         0.000000   14681.400000\n",
       "25%     39936.370000   103730.875000    129300.132500   90138.902500\n",
       "50%     73051.080000   122699.795000    212716.240000  107978.190000\n",
       "75%    101602.800000   144842.180000    299469.085000  139765.977500\n",
       "max    165349.200000   182645.560000    471784.100000  192261.830000"
      ]
     },
     "execution_count": 6,
     "metadata": {},
     "output_type": "execute_result"
    }
   ],
   "source": [
    "startup.describe()"
   ]
  },
  {
   "cell_type": "code",
   "execution_count": 7,
   "id": "959bc11e",
   "metadata": {},
   "outputs": [
    {
     "data": {
      "text/plain": [
       "New York      17\n",
       "California    17\n",
       "Florida       16\n",
       "Name: State, dtype: int64"
      ]
     },
     "execution_count": 7,
     "metadata": {},
     "output_type": "execute_result"
    }
   ],
   "source": [
    "# Different elements in a State column \n",
    "startup['State'].value_counts()"
   ]
  },
  {
   "cell_type": "markdown",
   "id": "39259e2b",
   "metadata": {},
   "source": [
    "<span style=\"color:Green\">\n",
    "    \n",
    "### Observation from above:\n",
    "- There are 5 columns: R&D Spend, Administration, Marketing Spend, State and Profit. And each column having 50 entries and no null values.\n",
    "- State column has 3 different values: New York, California, Florida which makes it as catagorical column\n"
   ]
  },
  {
   "cell_type": "markdown",
   "id": "a9655388",
   "metadata": {},
   "source": [
    "#"
   ]
  },
  {
   "cell_type": "markdown",
   "id": "403cb746",
   "metadata": {},
   "source": [
    "## Step 2: Data Visualisation"
   ]
  },
  {
   "cell_type": "markdown",
   "id": "b2d9b53c",
   "metadata": {},
   "source": [
    "### 2.1: Distribution of values across different columns"
   ]
  },
  {
   "cell_type": "code",
   "execution_count": 8,
   "id": "b7718278",
   "metadata": {
    "scrolled": false
   },
   "outputs": [
    {
     "data": {
      "image/png": "[encoded data removed]",
      "text/plain": [
       "<Figure size 1000x1000 with 20 Axes>"
      ]
     },
     "metadata": {},
     "output_type": "display_data"
    }
   ],
   "source": [
    "# Plotting pairplot to see the distribution of values across different columns\n",
    "sns.pairplot(startup)\n",
    "plt.show()"
   ]
  },
  {
   "cell_type": "markdown",
   "id": "7833adfc",
   "metadata": {},
   "source": [
    "<span style=\"color:Green\">\n",
    "    \n",
    "### Observation from above:\n",
    "- Scatter plot shows linear relation when graph plotted between Profit, R&D Spend and Marketing Spend columns\n",
    "- Administration column shows no clear linear correlation with other columns"
   ]
  },
  {
   "cell_type": "markdown",
   "id": "81d65e74",
   "metadata": {},
   "source": [
    "#"
   ]
  },
  {
   "cell_type": "markdown",
   "id": "f979cee0",
   "metadata": {},
   "source": [
    "### 2.2: 'State' catagorical variables column with respect to other columns"
   ]
  },
  {
   "cell_type": "code",
   "execution_count": 9,
   "id": "a195ad21",
   "metadata": {
    "scrolled": false
   },
   "outputs": [
    {
     "data": {
      "image/png": "[encoded data removed]",
      "text/plain": [
       "<Figure size 1000x600 with 1 Axes>"
      ]
     },
     "metadata": {},
     "output_type": "display_data"
    }
   ],
   "source": [
    "# Bar graph to analyze 'State' catagorical variables column with respect to other columns\n",
    "\n",
    "state_grouped = startup.groupby('State').sum()\n",
    "\n",
    "# Plotting the grouped bar graph\n",
    "ax = state_grouped.plot(kind='bar', figsize=(10, 6))\n",
    "plt.title('Total Expenditure and Profit by State')\n",
    "plt.xlabel('State')\n",
    "plt.ylabel('Amount')\n",
    "plt.xticks(rotation=0)\n",
    "plt.grid(axis='y')\n",
    "plt.tight_layout()\n",
    "\n",
    "for p in ax.patches:\n",
    "    ax.annotate(str(round(p.get_height(), 2)), (p.get_x() + p.get_width() / 2., p.get_height()),\n",
    "                ha='center', va='center', xytext=(0, 10), textcoords='offset points')\n",
    "\n",
    "plt.tight_layout()\n",
    "plt.show()"
   ]
  },
  {
   "cell_type": "markdown",
   "id": "1f657558",
   "metadata": {},
   "source": [
    "<span style=\"color:Green\">\n",
    "    \n",
    "### Observation from above:\n",
    "- Amount spent for marketing is much higher than other expenditures for all the three states. Florida is considerably spent much higher amount for its marketing\n",
    "- Amount spent for administration is almost same for all the 3 states\n",
    "- Amount spent for R&D is lesser than other two categories. And spent amount is almost same for all the three states\n"
   ]
  },
  {
   "cell_type": "markdown",
   "id": "53359542",
   "metadata": {},
   "source": [
    "#"
   ]
  },
  {
   "cell_type": "markdown",
   "id": "3edbd835",
   "metadata": {},
   "source": [
    "### 2.3: Distribution Plot for all numerical columns"
   ]
  },
  {
   "cell_type": "code",
   "execution_count": 10,
   "id": "be9b3045",
   "metadata": {},
   "outputs": [
    {
     "data": {
      "image/png": "[encoded data removed]",
      "text/plain": [
       "<Figure size 1400x400 with 4 Axes>"
      ]
     },
     "metadata": {},
     "output_type": "display_data"
    }
   ],
   "source": [
    "# Distribution Plot with Skewness\n",
    "\n",
    "plt.figure(figsize=(14,4))\n",
    "plt.subplot(1,4,1)\n",
    "sns.distplot(startup['R&D Spend'])\n",
    "plt.subplot(1,4,2)\n",
    "sns.distplot(startup['Administration'])\n",
    "plt.subplot(1,4,3)\n",
    "sns.distplot(startup['Marketing Spend'])\n",
    "plt.subplot(1,4,4)\n",
    "sns.distplot(startup['Profit'])\n",
    "plt.show()"
   ]
  },
  {
   "cell_type": "code",
   "execution_count": null,
   "id": "56cf2100",
   "metadata": {},
   "outputs": [],
   "source": []
  },
  {
   "cell_type": "code",
   "execution_count": null,
   "id": "fbb1ad20",
   "metadata": {},
   "outputs": [],
   "source": []
  },
  {
   "cell_type": "markdown",
   "id": "c9da1fef",
   "metadata": {},
   "source": [
    "### 2.4: Correlation between columns"
   ]
  },
  {
   "cell_type": "code",
   "execution_count": 11,
   "id": "b15e0695",
   "metadata": {},
   "outputs": [
    {
     "data": {
      "text/html": [
       "<div>\n",
       "<style scoped>\n",
       "    .dataframe tbody tr th:only-of-type {\n",
       "        vertical-align: middle;\n",
       "    }\n",
       "\n",
       "    .dataframe tbody tr th {\n",
       "        vertical-align: top;\n",
       "    }\n",
       "\n",
       "    .dataframe thead th {\n",
       "        text-align: right;\n",
       "    }\n",
       "</style>\n",
       "<table border=\"1\" class=\"dataframe\">\n",
       "  <thead>\n",
       "    <tr style=\"text-align: right;\">\n",
       "      <th></th>\n",
       "      <th>R&amp;D Spend</th>\n",
       "      <th>Administration</th>\n",
       "      <th>Marketing Spend</th>\n",
       "      <th>Profit</th>\n",
       "    </tr>\n",
       "  </thead>\n",
       "  <tbody>\n",
       "    <tr>\n",
       "      <th>R&amp;D Spend</th>\n",
       "      <td>1.000000</td>\n",
       "      <td>0.241955</td>\n",
       "      <td>0.724248</td>\n",
       "      <td>0.972900</td>\n",
       "    </tr>\n",
       "    <tr>\n",
       "      <th>Administration</th>\n",
       "      <td>0.241955</td>\n",
       "      <td>1.000000</td>\n",
       "      <td>-0.032154</td>\n",
       "      <td>0.200717</td>\n",
       "    </tr>\n",
       "    <tr>\n",
       "      <th>Marketing Spend</th>\n",
       "      <td>0.724248</td>\n",
       "      <td>-0.032154</td>\n",
       "      <td>1.000000</td>\n",
       "      <td>0.747766</td>\n",
       "    </tr>\n",
       "    <tr>\n",
       "      <th>Profit</th>\n",
       "      <td>0.972900</td>\n",
       "      <td>0.200717</td>\n",
       "      <td>0.747766</td>\n",
       "      <td>1.000000</td>\n",
       "    </tr>\n",
       "  </tbody>\n",
       "</table>\n",
       "</div>"
      ],
      "text/plain": [
       "                 R&D Spend  Administration  Marketing Spend    Profit\n",
       "R&D Spend         1.000000        0.241955         0.724248  0.972900\n",
       "Administration    0.241955        1.000000        -0.032154  0.200717\n",
       "Marketing Spend   0.724248       -0.032154         1.000000  0.747766\n",
       "Profit            0.972900        0.200717         0.747766  1.000000"
      ]
     },
     "execution_count": 11,
     "metadata": {},
     "output_type": "execute_result"
    }
   ],
   "source": [
    "startup.corr()"
   ]
  },
  {
   "cell_type": "code",
   "execution_count": 12,
   "id": "74429cd0",
   "metadata": {},
   "outputs": [
    {
     "data": {
      "image/png": "[encoded data removed]",
      "text/plain": [
       "<Figure size 640x480 with 2 Axes>"
      ]
     },
     "metadata": {},
     "output_type": "display_data"
    }
   ],
   "source": [
    "sns.heatmap(startup.corr(), annot = True)\n",
    "plt.show()"
   ]
  },
  {
   "cell_type": "markdown",
   "id": "df617cf7",
   "metadata": {},
   "source": [
    "<span style=\"color:Green\">\n",
    "    \n",
    "### Observation from above:\n",
    "- R&D Spend column has 97% and Marketing spend has 75% correlation with respect to profit. whereas Administration has only 20% correlation with Profit.\n",
    "- R&D and Profit have No skewness: means data distribution is good"
   ]
  },
  {
   "cell_type": "markdown",
   "id": "d5ff0f01",
   "metadata": {},
   "source": [
    "#"
   ]
  },
  {
   "cell_type": "markdown",
   "id": "5a496d9c",
   "metadata": {},
   "source": [
    "## Step 3: Preparing the data for modelling "
   ]
  },
  {
   "cell_type": "markdown",
   "id": "b3cf2afa",
   "metadata": {},
   "source": [
    "### 3.1: Creating Dummies for Catagorical columns"
   ]
  },
  {
   "cell_type": "code",
   "execution_count": 13,
   "id": "8554bd89",
   "metadata": {},
   "outputs": [
    {
     "data": {
      "text/plain": [
       "New York      17\n",
       "California    17\n",
       "Florida       16\n",
       "Name: State, dtype: int64"
      ]
     },
     "execution_count": 13,
     "metadata": {},
     "output_type": "execute_result"
    }
   ],
   "source": [
    "startup['State'].value_counts()"
   ]
  },
  {
   "cell_type": "code",
   "execution_count": 14,
   "id": "3a25ffa6",
   "metadata": {},
   "outputs": [],
   "source": [
    "# Creating dummies for 'State' column \n",
    "dm = pd.get_dummies(startup['State'])"
   ]
  },
  {
   "cell_type": "code",
   "execution_count": 15,
   "id": "93a023e0",
   "metadata": {},
   "outputs": [],
   "source": [
    "startup_dm = pd.concat([startup, dm], axis = 'columns')"
   ]
  },
  {
   "cell_type": "code",
   "execution_count": 16,
   "id": "8b1cc17a",
   "metadata": {},
   "outputs": [],
   "source": [
    "startup_dm = startup_dm.drop('State', axis = 'columns')"
   ]
  },
  {
   "cell_type": "code",
   "execution_count": 17,
   "id": "93752d75",
   "metadata": {
    "scrolled": true
   },
   "outputs": [
    {
     "data": {
      "text/html": [
       "<div>\n",
       "<style scoped>\n",
       "    .dataframe tbody tr th:only-of-type {\n",
       "        vertical-align: middle;\n",
       "    }\n",
       "\n",
       "    .dataframe tbody tr th {\n",
       "        vertical-align: top;\n",
       "    }\n",
       "\n",
       "    .dataframe thead th {\n",
       "        text-align: right;\n",
       "    }\n",
       "</style>\n",
       "<table border=\"1\" class=\"dataframe\">\n",
       "  <thead>\n",
       "    <tr style=\"text-align: right;\">\n",
       "      <th></th>\n",
       "      <th>R&amp;D Spend</th>\n",
       "      <th>Administration</th>\n",
       "      <th>Marketing Spend</th>\n",
       "      <th>Profit</th>\n",
       "      <th>California</th>\n",
       "      <th>Florida</th>\n",
       "      <th>New York</th>\n",
       "    </tr>\n",
       "  </thead>\n",
       "  <tbody>\n",
       "    <tr>\n",
       "      <th>0</th>\n",
       "      <td>165349.20</td>\n",
       "      <td>136897.80</td>\n",
       "      <td>471784.10</td>\n",
       "      <td>192261.83</td>\n",
       "      <td>0</td>\n",
       "      <td>0</td>\n",
       "      <td>1</td>\n",
       "    </tr>\n",
       "    <tr>\n",
       "      <th>1</th>\n",
       "      <td>162597.70</td>\n",
       "      <td>151377.59</td>\n",
       "      <td>443898.53</td>\n",
       "      <td>191792.06</td>\n",
       "      <td>1</td>\n",
       "      <td>0</td>\n",
       "      <td>0</td>\n",
       "    </tr>\n",
       "    <tr>\n",
       "      <th>2</th>\n",
       "      <td>153441.51</td>\n",
       "      <td>101145.55</td>\n",
       "      <td>407934.54</td>\n",
       "      <td>191050.39</td>\n",
       "      <td>0</td>\n",
       "      <td>1</td>\n",
       "      <td>0</td>\n",
       "    </tr>\n",
       "    <tr>\n",
       "      <th>3</th>\n",
       "      <td>144372.41</td>\n",
       "      <td>118671.85</td>\n",
       "      <td>383199.62</td>\n",
       "      <td>182901.99</td>\n",
       "      <td>0</td>\n",
       "      <td>0</td>\n",
       "      <td>1</td>\n",
       "    </tr>\n",
       "    <tr>\n",
       "      <th>4</th>\n",
       "      <td>142107.34</td>\n",
       "      <td>91391.77</td>\n",
       "      <td>366168.42</td>\n",
       "      <td>166187.94</td>\n",
       "      <td>0</td>\n",
       "      <td>1</td>\n",
       "      <td>0</td>\n",
       "    </tr>\n",
       "  </tbody>\n",
       "</table>\n",
       "</div>"
      ],
      "text/plain": [
       "   R&D Spend  Administration  Marketing Spend     Profit  California  Florida  \\\n",
       "0  165349.20       136897.80        471784.10  192261.83           0        0   \n",
       "1  162597.70       151377.59        443898.53  191792.06           1        0   \n",
       "2  153441.51       101145.55        407934.54  191050.39           0        1   \n",
       "3  144372.41       118671.85        383199.62  182901.99           0        0   \n",
       "4  142107.34        91391.77        366168.42  166187.94           0        1   \n",
       "\n",
       "   New York  \n",
       "0         1  \n",
       "1         0  \n",
       "2         0  \n",
       "3         1  \n",
       "4         0  "
      ]
     },
     "execution_count": 17,
     "metadata": {},
     "output_type": "execute_result"
    }
   ],
   "source": [
    "startup_dm.head()"
   ]
  },
  {
   "cell_type": "markdown",
   "id": "72de929b",
   "metadata": {},
   "source": [
    "#"
   ]
  },
  {
   "cell_type": "markdown",
   "id": "6693fabe",
   "metadata": {},
   "source": [
    "### 3.2: Splitting into Train and Test datasets"
   ]
  },
  {
   "cell_type": "code",
   "execution_count": 18,
   "id": "45cb92a2",
   "metadata": {},
   "outputs": [],
   "source": [
    "# Import train test library from sci-kit learn module\n",
    "\n",
    "from sklearn.model_selection import train_test_split"
   ]
  },
  {
   "cell_type": "code",
   "execution_count": 19,
   "id": "4f65abd2",
   "metadata": {},
   "outputs": [],
   "source": [
    "df_train, df_test = train_test_split(startup_dm, train_size = 0.7, test_size = 0.3, random_state = 100)"
   ]
  },
  {
   "cell_type": "code",
   "execution_count": 20,
   "id": "038ce054",
   "metadata": {},
   "outputs": [
    {
     "data": {
      "text/plain": [
       "(35, 7)"
      ]
     },
     "execution_count": 20,
     "metadata": {},
     "output_type": "execute_result"
    }
   ],
   "source": [
    "df_train.shape"
   ]
  },
  {
   "cell_type": "code",
   "execution_count": 21,
   "id": "473c3bc2",
   "metadata": {},
   "outputs": [
    {
     "data": {
      "text/plain": [
       "(15, 7)"
      ]
     },
     "execution_count": 21,
     "metadata": {},
     "output_type": "execute_result"
    }
   ],
   "source": [
    "df_test.shape"
   ]
  },
  {
   "cell_type": "markdown",
   "id": "fb57e084",
   "metadata": {},
   "source": [
    "#"
   ]
  },
  {
   "cell_type": "markdown",
   "id": "7c3c48e6",
   "metadata": {},
   "source": [
    "### 3.3: Rescaling the features"
   ]
  },
  {
   "cell_type": "code",
   "execution_count": 22,
   "id": "05c2aaec",
   "metadata": {},
   "outputs": [],
   "source": [
    "from sklearn.preprocessing import MinMaxScaler"
   ]
  },
  {
   "cell_type": "code",
   "execution_count": 23,
   "id": "8fc86555",
   "metadata": {},
   "outputs": [],
   "source": [
    "scaler = MinMaxScaler()"
   ]
  },
  {
   "cell_type": "code",
   "execution_count": 24,
   "id": "922f6f6d",
   "metadata": {},
   "outputs": [],
   "source": [
    "num_vars = ['R&D Spend', 'Administration', 'Marketing Spend', 'Profit']\n",
    "\n",
    "df_train[num_vars] = scaler.fit_transform(df_train[num_vars])"
   ]
  },
  {
   "cell_type": "code",
   "execution_count": 25,
   "id": "fa10eca8",
   "metadata": {},
   "outputs": [
    {
     "data": {
      "text/html": [
       "<div>\n",
       "<style scoped>\n",
       "    .dataframe tbody tr th:only-of-type {\n",
       "        vertical-align: middle;\n",
       "    }\n",
       "\n",
       "    .dataframe tbody tr th {\n",
       "        vertical-align: top;\n",
       "    }\n",
       "\n",
       "    .dataframe thead th {\n",
       "        text-align: right;\n",
       "    }\n",
       "</style>\n",
       "<table border=\"1\" class=\"dataframe\">\n",
       "  <thead>\n",
       "    <tr style=\"text-align: right;\">\n",
       "      <th></th>\n",
       "      <th>R&amp;D Spend</th>\n",
       "      <th>Administration</th>\n",
       "      <th>Marketing Spend</th>\n",
       "      <th>Profit</th>\n",
       "      <th>California</th>\n",
       "      <th>Florida</th>\n",
       "      <th>New York</th>\n",
       "    </tr>\n",
       "  </thead>\n",
       "  <tbody>\n",
       "    <tr>\n",
       "      <th>25</th>\n",
       "      <td>0.397698</td>\n",
       "      <td>0.828781</td>\n",
       "      <td>0.310798</td>\n",
       "      <td>0.459464</td>\n",
       "      <td>1</td>\n",
       "      <td>0</td>\n",
       "      <td>0</td>\n",
       "    </tr>\n",
       "    <tr>\n",
       "      <th>26</th>\n",
       "      <td>0.463284</td>\n",
       "      <td>0.872035</td>\n",
       "      <td>0.301984</td>\n",
       "      <td>0.448762</td>\n",
       "      <td>0</td>\n",
       "      <td>1</td>\n",
       "      <td>0</td>\n",
       "    </tr>\n",
       "    <tr>\n",
       "      <th>35</th>\n",
       "      <td>0.282993</td>\n",
       "      <td>0.314337</td>\n",
       "      <td>0.462983</td>\n",
       "      <td>0.389486</td>\n",
       "      <td>0</td>\n",
       "      <td>0</td>\n",
       "      <td>1</td>\n",
       "    </tr>\n",
       "    <tr>\n",
       "      <th>17</th>\n",
       "      <td>0.582156</td>\n",
       "      <td>0.880923</td>\n",
       "      <td>0.636574</td>\n",
       "      <td>0.574544</td>\n",
       "      <td>0</td>\n",
       "      <td>0</td>\n",
       "      <td>1</td>\n",
       "    </tr>\n",
       "    <tr>\n",
       "      <th>7</th>\n",
       "      <td>0.801353</td>\n",
       "      <td>0.885193</td>\n",
       "      <td>0.729619</td>\n",
       "      <td>0.769153</td>\n",
       "      <td>0</td>\n",
       "      <td>1</td>\n",
       "      <td>0</td>\n",
       "    </tr>\n",
       "  </tbody>\n",
       "</table>\n",
       "</div>"
      ],
      "text/plain": [
       "    R&D Spend  Administration  Marketing Spend    Profit  California  Florida  \\\n",
       "25   0.397698        0.828781         0.310798  0.459464           1        0   \n",
       "26   0.463284        0.872035         0.301984  0.448762           0        1   \n",
       "35   0.282993        0.314337         0.462983  0.389486           0        0   \n",
       "17   0.582156        0.880923         0.636574  0.574544           0        0   \n",
       "7    0.801353        0.885193         0.729619  0.769153           0        1   \n",
       "\n",
       "    New York  \n",
       "25         0  \n",
       "26         0  \n",
       "35         1  \n",
       "17         1  \n",
       "7          0  "
      ]
     },
     "execution_count": 25,
     "metadata": {},
     "output_type": "execute_result"
    }
   ],
   "source": [
    "df_train.head()"
   ]
  },
  {
   "cell_type": "code",
   "execution_count": 26,
   "id": "52c002fd",
   "metadata": {},
   "outputs": [
    {
     "data": {
      "text/html": [
       "<div>\n",
       "<style scoped>\n",
       "    .dataframe tbody tr th:only-of-type {\n",
       "        vertical-align: middle;\n",
       "    }\n",
       "\n",
       "    .dataframe tbody tr th {\n",
       "        vertical-align: top;\n",
       "    }\n",
       "\n",
       "    .dataframe thead th {\n",
       "        text-align: right;\n",
       "    }\n",
       "</style>\n",
       "<table border=\"1\" class=\"dataframe\">\n",
       "  <thead>\n",
       "    <tr style=\"text-align: right;\">\n",
       "      <th></th>\n",
       "      <th>R&amp;D Spend</th>\n",
       "      <th>Administration</th>\n",
       "      <th>Marketing Spend</th>\n",
       "      <th>Profit</th>\n",
       "      <th>California</th>\n",
       "      <th>Florida</th>\n",
       "      <th>New York</th>\n",
       "    </tr>\n",
       "  </thead>\n",
       "  <tbody>\n",
       "    <tr>\n",
       "      <th>count</th>\n",
       "      <td>35.000000</td>\n",
       "      <td>35.000000</td>\n",
       "      <td>35.000000</td>\n",
       "      <td>35.000000</td>\n",
       "      <td>35.000000</td>\n",
       "      <td>35.000000</td>\n",
       "      <td>35.000000</td>\n",
       "    </tr>\n",
       "    <tr>\n",
       "      <th>mean</th>\n",
       "      <td>0.479871</td>\n",
       "      <td>0.689748</td>\n",
       "      <td>0.489092</td>\n",
       "      <td>0.508198</td>\n",
       "      <td>0.314286</td>\n",
       "      <td>0.342857</td>\n",
       "      <td>0.342857</td>\n",
       "    </tr>\n",
       "    <tr>\n",
       "      <th>std</th>\n",
       "      <td>0.265304</td>\n",
       "      <td>0.244887</td>\n",
       "      <td>0.273648</td>\n",
       "      <td>0.246458</td>\n",
       "      <td>0.471008</td>\n",
       "      <td>0.481594</td>\n",
       "      <td>0.481594</td>\n",
       "    </tr>\n",
       "    <tr>\n",
       "      <th>min</th>\n",
       "      <td>0.000000</td>\n",
       "      <td>0.000000</td>\n",
       "      <td>0.000000</td>\n",
       "      <td>0.000000</td>\n",
       "      <td>0.000000</td>\n",
       "      <td>0.000000</td>\n",
       "      <td>0.000000</td>\n",
       "    </tr>\n",
       "    <tr>\n",
       "      <th>25%</th>\n",
       "      <td>0.330763</td>\n",
       "      <td>0.546419</td>\n",
       "      <td>0.306391</td>\n",
       "      <td>0.393271</td>\n",
       "      <td>0.000000</td>\n",
       "      <td>0.000000</td>\n",
       "      <td>0.000000</td>\n",
       "    </tr>\n",
       "    <tr>\n",
       "      <th>50%</th>\n",
       "      <td>0.463284</td>\n",
       "      <td>0.713324</td>\n",
       "      <td>0.562830</td>\n",
       "      <td>0.467981</td>\n",
       "      <td>0.000000</td>\n",
       "      <td>0.000000</td>\n",
       "      <td>0.000000</td>\n",
       "    </tr>\n",
       "    <tr>\n",
       "      <th>75%</th>\n",
       "      <td>0.665559</td>\n",
       "      <td>0.900242</td>\n",
       "      <td>0.684940</td>\n",
       "      <td>0.655098</td>\n",
       "      <td>1.000000</td>\n",
       "      <td>1.000000</td>\n",
       "      <td>1.000000</td>\n",
       "    </tr>\n",
       "    <tr>\n",
       "      <th>max</th>\n",
       "      <td>1.000000</td>\n",
       "      <td>1.000000</td>\n",
       "      <td>1.000000</td>\n",
       "      <td>1.000000</td>\n",
       "      <td>1.000000</td>\n",
       "      <td>1.000000</td>\n",
       "      <td>1.000000</td>\n",
       "    </tr>\n",
       "  </tbody>\n",
       "</table>\n",
       "</div>"
      ],
      "text/plain": [
       "       R&D Spend  Administration  Marketing Spend     Profit  California  \\\n",
       "count  35.000000       35.000000        35.000000  35.000000   35.000000   \n",
       "mean    0.479871        0.689748         0.489092   0.508198    0.314286   \n",
       "std     0.265304        0.244887         0.273648   0.246458    0.471008   \n",
       "min     0.000000        0.000000         0.000000   0.000000    0.000000   \n",
       "25%     0.330763        0.546419         0.306391   0.393271    0.000000   \n",
       "50%     0.463284        0.713324         0.562830   0.467981    0.000000   \n",
       "75%     0.665559        0.900242         0.684940   0.655098    1.000000   \n",
       "max     1.000000        1.000000         1.000000   1.000000    1.000000   \n",
       "\n",
       "         Florida   New York  \n",
       "count  35.000000  35.000000  \n",
       "mean    0.342857   0.342857  \n",
       "std     0.481594   0.481594  \n",
       "min     0.000000   0.000000  \n",
       "25%     0.000000   0.000000  \n",
       "50%     0.000000   0.000000  \n",
       "75%     1.000000   1.000000  \n",
       "max     1.000000   1.000000  "
      ]
     },
     "execution_count": 26,
     "metadata": {},
     "output_type": "execute_result"
    }
   ],
   "source": [
    "df_train.describe()"
   ]
  },
  {
   "cell_type": "markdown",
   "id": "1952d20e",
   "metadata": {},
   "source": [
    "#"
   ]
  },
  {
   "cell_type": "markdown",
   "id": "b382c35f",
   "metadata": {},
   "source": [
    "### 3.4: Dividing into X and Y sets for the model building"
   ]
  },
  {
   "cell_type": "code",
   "execution_count": 27,
   "id": "524212b7",
   "metadata": {},
   "outputs": [],
   "source": [
    "X_train = df_train.drop('Profit', axis = 'columns')\n",
    "y_train = df_train['Profit']"
   ]
  },
  {
   "cell_type": "code",
   "execution_count": 28,
   "id": "8ad60143",
   "metadata": {},
   "outputs": [
    {
     "data": {
      "text/html": [
       "<div>\n",
       "<style scoped>\n",
       "    .dataframe tbody tr th:only-of-type {\n",
       "        vertical-align: middle;\n",
       "    }\n",
       "\n",
       "    .dataframe tbody tr th {\n",
       "        vertical-align: top;\n",
       "    }\n",
       "\n",
       "    .dataframe thead th {\n",
       "        text-align: right;\n",
       "    }\n",
       "</style>\n",
       "<table border=\"1\" class=\"dataframe\">\n",
       "  <thead>\n",
       "    <tr style=\"text-align: right;\">\n",
       "      <th></th>\n",
       "      <th>R&amp;D Spend</th>\n",
       "      <th>Administration</th>\n",
       "      <th>Marketing Spend</th>\n",
       "      <th>California</th>\n",
       "      <th>Florida</th>\n",
       "      <th>New York</th>\n",
       "    </tr>\n",
       "  </thead>\n",
       "  <tbody>\n",
       "    <tr>\n",
       "      <th>25</th>\n",
       "      <td>0.397698</td>\n",
       "      <td>0.828781</td>\n",
       "      <td>0.310798</td>\n",
       "      <td>1</td>\n",
       "      <td>0</td>\n",
       "      <td>0</td>\n",
       "    </tr>\n",
       "    <tr>\n",
       "      <th>26</th>\n",
       "      <td>0.463284</td>\n",
       "      <td>0.872035</td>\n",
       "      <td>0.301984</td>\n",
       "      <td>0</td>\n",
       "      <td>1</td>\n",
       "      <td>0</td>\n",
       "    </tr>\n",
       "    <tr>\n",
       "      <th>35</th>\n",
       "      <td>0.282993</td>\n",
       "      <td>0.314337</td>\n",
       "      <td>0.462983</td>\n",
       "      <td>0</td>\n",
       "      <td>0</td>\n",
       "      <td>1</td>\n",
       "    </tr>\n",
       "    <tr>\n",
       "      <th>17</th>\n",
       "      <td>0.582156</td>\n",
       "      <td>0.880923</td>\n",
       "      <td>0.636574</td>\n",
       "      <td>0</td>\n",
       "      <td>0</td>\n",
       "      <td>1</td>\n",
       "    </tr>\n",
       "    <tr>\n",
       "      <th>7</th>\n",
       "      <td>0.801353</td>\n",
       "      <td>0.885193</td>\n",
       "      <td>0.729619</td>\n",
       "      <td>0</td>\n",
       "      <td>1</td>\n",
       "      <td>0</td>\n",
       "    </tr>\n",
       "  </tbody>\n",
       "</table>\n",
       "</div>"
      ],
      "text/plain": [
       "    R&D Spend  Administration  Marketing Spend  California  Florida  New York\n",
       "25   0.397698        0.828781         0.310798           1        0         0\n",
       "26   0.463284        0.872035         0.301984           0        1         0\n",
       "35   0.282993        0.314337         0.462983           0        0         1\n",
       "17   0.582156        0.880923         0.636574           0        0         1\n",
       "7    0.801353        0.885193         0.729619           0        1         0"
      ]
     },
     "execution_count": 28,
     "metadata": {},
     "output_type": "execute_result"
    }
   ],
   "source": [
    "X_train.head()"
   ]
  },
  {
   "cell_type": "code",
   "execution_count": 29,
   "id": "975cc5b8",
   "metadata": {},
   "outputs": [
    {
     "data": {
      "text/plain": [
       "25    0.459464\n",
       "26    0.448762\n",
       "35    0.389486\n",
       "17    0.574544\n",
       "7     0.769153\n",
       "Name: Profit, dtype: float64"
      ]
     },
     "execution_count": 29,
     "metadata": {},
     "output_type": "execute_result"
    }
   ],
   "source": [
    "y_train.head()"
   ]
  },
  {
   "cell_type": "markdown",
   "id": "2f5d9f56",
   "metadata": {},
   "source": [
    "#"
   ]
  },
  {
   "cell_type": "markdown",
   "id": "f7a13a32",
   "metadata": {},
   "source": [
    "## Step 4: Building and Training The Model"
   ]
  },
  {
   "cell_type": "markdown",
   "id": "ae8cb070",
   "metadata": {},
   "source": [
    "### 4.1: Create and Fit the model"
   ]
  },
  {
   "cell_type": "code",
   "execution_count": 30,
   "id": "2dd3a6f7",
   "metadata": {},
   "outputs": [],
   "source": [
    "# Import statmodels libraries for adding constant value to the model\n",
    "import statsmodels.api as sm"
   ]
  },
  {
   "cell_type": "code",
   "execution_count": 31,
   "id": "80c3e4ba",
   "metadata": {},
   "outputs": [
    {
     "data": {
      "text/html": [
       "<table class=\"simpletable\">\n",
       "<caption>OLS Regression Results</caption>\n",
       "<tr>\n",
       "  <th>Dep. Variable:</th>         <td>Profit</td>      <th>  R-squared:         </th> <td>   0.966</td>\n",
       "</tr>\n",
       "<tr>\n",
       "  <th>Model:</th>                   <td>OLS</td>       <th>  Adj. R-squared:    </th> <td>   0.961</td>\n",
       "</tr>\n",
       "<tr>\n",
       "  <th>Method:</th>             <td>Least Squares</td>  <th>  F-statistic:       </th> <td>   167.1</td>\n",
       "</tr>\n",
       "<tr>\n",
       "  <th>Date:</th>             <td>Fri, 22 Mar 2024</td> <th>  Prob (F-statistic):</th> <td>1.87e-20</td>\n",
       "</tr>\n",
       "<tr>\n",
       "  <th>Time:</th>                 <td>17:44:53</td>     <th>  Log-Likelihood:    </th> <td>  59.275</td>\n",
       "</tr>\n",
       "<tr>\n",
       "  <th>No. Observations:</th>      <td>    35</td>      <th>  AIC:               </th> <td>  -106.5</td>\n",
       "</tr>\n",
       "<tr>\n",
       "  <th>Df Residuals:</th>          <td>    29</td>      <th>  BIC:               </th> <td>  -97.22</td>\n",
       "</tr>\n",
       "<tr>\n",
       "  <th>Df Model:</th>              <td>     5</td>      <th>                     </th>     <td> </td>   \n",
       "</tr>\n",
       "<tr>\n",
       "  <th>Covariance Type:</th>      <td>nonrobust</td>    <th>                     </th>     <td> </td>   \n",
       "</tr>\n",
       "</table>\n",
       "<table class=\"simpletable\">\n",
       "<tr>\n",
       "         <td></td>            <th>coef</th>     <th>std err</th>      <th>t</th>      <th>P>|t|</th>  <th>[0.025</th>    <th>0.975]</th>  \n",
       "</tr>\n",
       "<tr>\n",
       "  <th>const</th>           <td>    0.0524</td> <td>    0.022</td> <td>    2.398</td> <td> 0.023</td> <td>    0.008</td> <td>    0.097</td>\n",
       "</tr>\n",
       "<tr>\n",
       "  <th>R&D Spend</th>       <td>    0.8758</td> <td>    0.047</td> <td>   18.696</td> <td> 0.000</td> <td>    0.780</td> <td>    0.972</td>\n",
       "</tr>\n",
       "<tr>\n",
       "  <th>Administration</th>  <td>   -0.0190</td> <td>    0.037</td> <td>   -0.515</td> <td> 0.610</td> <td>   -0.094</td> <td>    0.056</td>\n",
       "</tr>\n",
       "<tr>\n",
       "  <th>Marketing Spend</th> <td>    0.0647</td> <td>    0.044</td> <td>    1.455</td> <td> 0.156</td> <td>   -0.026</td> <td>    0.156</td>\n",
       "</tr>\n",
       "<tr>\n",
       "  <th>California</th>      <td>    0.0358</td> <td>    0.015</td> <td>    2.443</td> <td> 0.021</td> <td>    0.006</td> <td>    0.066</td>\n",
       "</tr>\n",
       "<tr>\n",
       "  <th>Florida</th>         <td>    0.0147</td> <td>    0.014</td> <td>    1.043</td> <td> 0.306</td> <td>   -0.014</td> <td>    0.044</td>\n",
       "</tr>\n",
       "<tr>\n",
       "  <th>New York</th>        <td>    0.0019</td> <td>    0.014</td> <td>    0.138</td> <td> 0.891</td> <td>   -0.026</td> <td>    0.030</td>\n",
       "</tr>\n",
       "</table>\n",
       "<table class=\"simpletable\">\n",
       "<tr>\n",
       "  <th>Omnibus:</th>       <td> 0.515</td> <th>  Durbin-Watson:     </th> <td>   2.640</td>\n",
       "</tr>\n",
       "<tr>\n",
       "  <th>Prob(Omnibus):</th> <td> 0.773</td> <th>  Jarque-Bera (JB):  </th> <td>   0.388</td>\n",
       "</tr>\n",
       "<tr>\n",
       "  <th>Skew:</th>          <td>-0.245</td> <th>  Prob(JB):          </th> <td>   0.824</td>\n",
       "</tr>\n",
       "<tr>\n",
       "  <th>Kurtosis:</th>      <td> 2.840</td> <th>  Cond. No.          </th> <td>1.43e+16</td>\n",
       "</tr>\n",
       "</table><br/><br/>Notes:<br/>[1] Standard Errors assume that the covariance matrix of the errors is correctly specified.<br/>[2] The smallest eigenvalue is 3.96e-31. This might indicate that there are<br/>strong multicollinearity problems or that the design matrix is singular."
      ],
      "text/latex": [
       "\\begin{center}\n",
       "\\begin{tabular}{lclc}\n",
       "\\toprule\n",
       "\\textbf{Dep. Variable:}    &      Profit      & \\textbf{  R-squared:         } &     0.966   \\\\\n",
       "\\textbf{Model:}            &       OLS        & \\textbf{  Adj. R-squared:    } &     0.961   \\\\\n",
       "\\textbf{Method:}           &  Least Squares   & \\textbf{  F-statistic:       } &     167.1   \\\\\n",
       "\\textbf{Date:}             & Fri, 22 Mar 2024 & \\textbf{  Prob (F-statistic):} &  1.87e-20   \\\\\n",
       "\\textbf{Time:}             &     17:44:53     & \\textbf{  Log-Likelihood:    } &    59.275   \\\\\n",
       "\\textbf{No. Observations:} &          35      & \\textbf{  AIC:               } &    -106.5   \\\\\n",
       "\\textbf{Df Residuals:}     &          29      & \\textbf{  BIC:               } &    -97.22   \\\\\n",
       "\\textbf{Df Model:}         &           5      & \\textbf{                     } &             \\\\\n",
       "\\textbf{Covariance Type:}  &    nonrobust     & \\textbf{                     } &             \\\\\n",
       "\\bottomrule\n",
       "\\end{tabular}\n",
       "\\begin{tabular}{lcccccc}\n",
       "                         & \\textbf{coef} & \\textbf{std err} & \\textbf{t} & \\textbf{P$> |$t$|$} & \\textbf{[0.025} & \\textbf{0.975]}  \\\\\n",
       "\\midrule\n",
       "\\textbf{const}           &       0.0524  &        0.022     &     2.398  &         0.023        &        0.008    &        0.097     \\\\\n",
       "\\textbf{R\\&D Spend}      &       0.8758  &        0.047     &    18.696  &         0.000        &        0.780    &        0.972     \\\\\n",
       "\\textbf{Administration}  &      -0.0190  &        0.037     &    -0.515  &         0.610        &       -0.094    &        0.056     \\\\\n",
       "\\textbf{Marketing Spend} &       0.0647  &        0.044     &     1.455  &         0.156        &       -0.026    &        0.156     \\\\\n",
       "\\textbf{California}      &       0.0358  &        0.015     &     2.443  &         0.021        &        0.006    &        0.066     \\\\\n",
       "\\textbf{Florida}         &       0.0147  &        0.014     &     1.043  &         0.306        &       -0.014    &        0.044     \\\\\n",
       "\\textbf{New York}        &       0.0019  &        0.014     &     0.138  &         0.891        &       -0.026    &        0.030     \\\\\n",
       "\\bottomrule\n",
       "\\end{tabular}\n",
       "\\begin{tabular}{lclc}\n",
       "\\textbf{Omnibus:}       &  0.515 & \\textbf{  Durbin-Watson:     } &    2.640  \\\\\n",
       "\\textbf{Prob(Omnibus):} &  0.773 & \\textbf{  Jarque-Bera (JB):  } &    0.388  \\\\\n",
       "\\textbf{Skew:}          & -0.245 & \\textbf{  Prob(JB):          } &    0.824  \\\\\n",
       "\\textbf{Kurtosis:}      &  2.840 & \\textbf{  Cond. No.          } & 1.43e+16  \\\\\n",
       "\\bottomrule\n",
       "\\end{tabular}\n",
       "%\\caption{OLS Regression Results}\n",
       "\\end{center}\n",
       "\n",
       "Notes: \\newline\n",
       " [1] Standard Errors assume that the covariance matrix of the errors is correctly specified. \\newline\n",
       " [2] The smallest eigenvalue is 3.96e-31. This might indicate that there are \\newline\n",
       " strong multicollinearity problems or that the design matrix is singular."
      ],
      "text/plain": [
       "<class 'statsmodels.iolib.summary.Summary'>\n",
       "\"\"\"\n",
       "                            OLS Regression Results                            \n",
       "==============================================================================\n",
       "Dep. Variable:                 Profit   R-squared:                       0.966\n",
       "Model:                            OLS   Adj. R-squared:                  0.961\n",
       "Method:                 Least Squares   F-statistic:                     167.1\n",
       "Date:                Fri, 22 Mar 2024   Prob (F-statistic):           1.87e-20\n",
       "Time:                        17:44:53   Log-Likelihood:                 59.275\n",
       "No. Observations:                  35   AIC:                            -106.5\n",
       "Df Residuals:                      29   BIC:                            -97.22\n",
       "Df Model:                           5                                         \n",
       "Covariance Type:            nonrobust                                         \n",
       "===================================================================================\n",
       "                      coef    std err          t      P>|t|      [0.025      0.975]\n",
       "-----------------------------------------------------------------------------------\n",
       "const               0.0524      0.022      2.398      0.023       0.008       0.097\n",
       "R&D Spend           0.8758      0.047     18.696      0.000       0.780       0.972\n",
       "Administration     -0.0190      0.037     -0.515      0.610      -0.094       0.056\n",
       "Marketing Spend     0.0647      0.044      1.455      0.156      -0.026       0.156\n",
       "California          0.0358      0.015      2.443      0.021       0.006       0.066\n",
       "Florida             0.0147      0.014      1.043      0.306      -0.014       0.044\n",
       "New York            0.0019      0.014      0.138      0.891      -0.026       0.030\n",
       "==============================================================================\n",
       "Omnibus:                        0.515   Durbin-Watson:                   2.640\n",
       "Prob(Omnibus):                  0.773   Jarque-Bera (JB):                0.388\n",
       "Skew:                          -0.245   Prob(JB):                        0.824\n",
       "Kurtosis:                       2.840   Cond. No.                     1.43e+16\n",
       "==============================================================================\n",
       "\n",
       "Notes:\n",
       "[1] Standard Errors assume that the covariance matrix of the errors is correctly specified.\n",
       "[2] The smallest eigenvalue is 3.96e-31. This might indicate that there are\n",
       "strong multicollinearity problems or that the design matrix is singular.\n",
       "\"\"\""
      ]
     },
     "execution_count": 31,
     "metadata": {},
     "output_type": "execute_result"
    }
   ],
   "source": [
    "# Adding constant\n",
    "X_train_sm = sm.add_constant(X_train)\n",
    "\n",
    "# Create model with all available variables\n",
    "lr_model = sm.OLS(y_train, X_train_sm)\n",
    "\n",
    "#fit\n",
    "startup_lr_model = lr_model.fit()\n",
    "\n",
    "#To print Summary\n",
    "startup_lr_model.summary()"
   ]
  },
  {
   "cell_type": "markdown",
   "id": "dd342d6f",
   "metadata": {},
   "source": [
    "<span style=\"color:Green\">\n",
    "    \n",
    "### Observation from above:\n",
    "- R-squared value for the model is 0.966 which shows model is able to explain variance precisely \n",
    "- Prob(F-Statistics) is nearly zero which explains overall model fit is significant\n",
    "- P values of Newyork and Administration variables are 0.891 and 0.610 which are higher, indicates that both variables are insignificant. Hence dropping both variables"
   ]
  },
  {
   "cell_type": "markdown",
   "id": "f30a0c6f",
   "metadata": {},
   "source": [
    "#"
   ]
  },
  {
   "cell_type": "markdown",
   "id": "29ed1205",
   "metadata": {},
   "source": [
    "### 4.2: Compute VIF to analyze correlation of variances"
   ]
  },
  {
   "cell_type": "code",
   "execution_count": 32,
   "id": "941270bd",
   "metadata": {},
   "outputs": [],
   "source": [
    "# Import VIF library from statsmodels\n",
    "from statsmodels.stats.outliers_influence import variance_inflation_factor"
   ]
  },
  {
   "cell_type": "code",
   "execution_count": 33,
   "id": "1c6eb22c",
   "metadata": {},
   "outputs": [
    {
     "data": {
      "text/html": [
       "<div>\n",
       "<style scoped>\n",
       "    .dataframe tbody tr th:only-of-type {\n",
       "        vertical-align: middle;\n",
       "    }\n",
       "\n",
       "    .dataframe tbody tr th {\n",
       "        vertical-align: top;\n",
       "    }\n",
       "\n",
       "    .dataframe thead th {\n",
       "        text-align: right;\n",
       "    }\n",
       "</style>\n",
       "<table border=\"1\" class=\"dataframe\">\n",
       "  <thead>\n",
       "    <tr style=\"text-align: right;\">\n",
       "      <th></th>\n",
       "      <th>Features</th>\n",
       "      <th>VIF</th>\n",
       "    </tr>\n",
       "  </thead>\n",
       "  <tbody>\n",
       "    <tr>\n",
       "      <th>4</th>\n",
       "      <td>Florida</td>\n",
       "      <td>4.95</td>\n",
       "    </tr>\n",
       "    <tr>\n",
       "      <th>5</th>\n",
       "      <td>New York</td>\n",
       "      <td>4.87</td>\n",
       "    </tr>\n",
       "    <tr>\n",
       "      <th>3</th>\n",
       "      <td>California</td>\n",
       "      <td>4.77</td>\n",
       "    </tr>\n",
       "    <tr>\n",
       "      <th>0</th>\n",
       "      <td>R&amp;D Spend</td>\n",
       "      <td>2.20</td>\n",
       "    </tr>\n",
       "    <tr>\n",
       "      <th>2</th>\n",
       "      <td>Marketing Spend</td>\n",
       "      <td>2.11</td>\n",
       "    </tr>\n",
       "    <tr>\n",
       "      <th>1</th>\n",
       "      <td>Administration</td>\n",
       "      <td>1.16</td>\n",
       "    </tr>\n",
       "  </tbody>\n",
       "</table>\n",
       "</div>"
      ],
      "text/plain": [
       "          Features   VIF\n",
       "4          Florida  4.95\n",
       "5         New York  4.87\n",
       "3       California  4.77\n",
       "0        R&D Spend  2.20\n",
       "2  Marketing Spend  2.11\n",
       "1   Administration  1.16"
      ]
     },
     "execution_count": 33,
     "metadata": {},
     "output_type": "execute_result"
    }
   ],
   "source": [
    "vif = pd.DataFrame()\n",
    "vif['Features'] = X_train.columns\n",
    "vif['VIF'] = [variance_inflation_factor(X_train.values, i) for i in range(X_train.shape[1])]\n",
    "vif['VIF'] = round(vif['VIF'], 2)\n",
    "vif = vif.sort_values( by = 'VIF', ascending = False)\n",
    "vif"
   ]
  },
  {
   "cell_type": "markdown",
   "id": "63d24eb0",
   "metadata": {},
   "source": [
    "<span style=\"color:Green\">\n",
    "    \n",
    "### Observation from above:\n",
    "- VIF of Features such as Florida, New York and California are higher. \n",
    "- Dropping New York column as both P-value and VIF are higher than usual range"
   ]
  },
  {
   "cell_type": "markdown",
   "id": "f0e8a612",
   "metadata": {},
   "source": [
    "#"
   ]
  },
  {
   "cell_type": "markdown",
   "id": "eeb9d4ff",
   "metadata": {},
   "source": [
    "### 4.3 Model Building 2\n",
    "- Drop **'New York'** Column"
   ]
  },
  {
   "cell_type": "code",
   "execution_count": 34,
   "id": "8dc2d327",
   "metadata": {},
   "outputs": [],
   "source": [
    "# Drop 'New York' column\n",
    "X_train_sm = X_train_sm.drop(['New York'], axis = 'columns')"
   ]
  },
  {
   "cell_type": "code",
   "execution_count": 35,
   "id": "7f1b64eb",
   "metadata": {},
   "outputs": [
    {
     "data": {
      "text/html": [
       "<table class=\"simpletable\">\n",
       "<caption>OLS Regression Results</caption>\n",
       "<tr>\n",
       "  <th>Dep. Variable:</th>         <td>Profit</td>      <th>  R-squared:         </th> <td>   0.966</td>\n",
       "</tr>\n",
       "<tr>\n",
       "  <th>Model:</th>                   <td>OLS</td>       <th>  Adj. R-squared:    </th> <td>   0.961</td>\n",
       "</tr>\n",
       "<tr>\n",
       "  <th>Method:</th>             <td>Least Squares</td>  <th>  F-statistic:       </th> <td>   167.1</td>\n",
       "</tr>\n",
       "<tr>\n",
       "  <th>Date:</th>             <td>Fri, 22 Mar 2024</td> <th>  Prob (F-statistic):</th> <td>1.87e-20</td>\n",
       "</tr>\n",
       "<tr>\n",
       "  <th>Time:</th>                 <td>17:44:54</td>     <th>  Log-Likelihood:    </th> <td>  59.275</td>\n",
       "</tr>\n",
       "<tr>\n",
       "  <th>No. Observations:</th>      <td>    35</td>      <th>  AIC:               </th> <td>  -106.5</td>\n",
       "</tr>\n",
       "<tr>\n",
       "  <th>Df Residuals:</th>          <td>    29</td>      <th>  BIC:               </th> <td>  -97.22</td>\n",
       "</tr>\n",
       "<tr>\n",
       "  <th>Df Model:</th>              <td>     5</td>      <th>                     </th>     <td> </td>   \n",
       "</tr>\n",
       "<tr>\n",
       "  <th>Covariance Type:</th>      <td>nonrobust</td>    <th>                     </th>     <td> </td>   \n",
       "</tr>\n",
       "</table>\n",
       "<table class=\"simpletable\">\n",
       "<tr>\n",
       "         <td></td>            <th>coef</th>     <th>std err</th>      <th>t</th>      <th>P>|t|</th>  <th>[0.025</th>    <th>0.975]</th>  \n",
       "</tr>\n",
       "<tr>\n",
       "  <th>const</th>           <td>    0.0543</td> <td>    0.031</td> <td>    1.744</td> <td> 0.092</td> <td>   -0.009</td> <td>    0.118</td>\n",
       "</tr>\n",
       "<tr>\n",
       "  <th>R&D Spend</th>       <td>    0.8758</td> <td>    0.047</td> <td>   18.696</td> <td> 0.000</td> <td>    0.780</td> <td>    0.972</td>\n",
       "</tr>\n",
       "<tr>\n",
       "  <th>Administration</th>  <td>   -0.0190</td> <td>    0.037</td> <td>   -0.515</td> <td> 0.610</td> <td>   -0.094</td> <td>    0.056</td>\n",
       "</tr>\n",
       "<tr>\n",
       "  <th>Marketing Spend</th> <td>    0.0647</td> <td>    0.044</td> <td>    1.455</td> <td> 0.156</td> <td>   -0.026</td> <td>    0.156</td>\n",
       "</tr>\n",
       "<tr>\n",
       "  <th>California</th>      <td>    0.0339</td> <td>    0.021</td> <td>    1.630</td> <td> 0.114</td> <td>   -0.009</td> <td>    0.076</td>\n",
       "</tr>\n",
       "<tr>\n",
       "  <th>Florida</th>         <td>    0.0129</td> <td>    0.021</td> <td>    0.624</td> <td> 0.537</td> <td>   -0.029</td> <td>    0.055</td>\n",
       "</tr>\n",
       "</table>\n",
       "<table class=\"simpletable\">\n",
       "<tr>\n",
       "  <th>Omnibus:</th>       <td> 0.515</td> <th>  Durbin-Watson:     </th> <td>   2.640</td>\n",
       "</tr>\n",
       "<tr>\n",
       "  <th>Prob(Omnibus):</th> <td> 0.773</td> <th>  Jarque-Bera (JB):  </th> <td>   0.388</td>\n",
       "</tr>\n",
       "<tr>\n",
       "  <th>Skew:</th>          <td>-0.245</td> <th>  Prob(JB):          </th> <td>   0.824</td>\n",
       "</tr>\n",
       "<tr>\n",
       "  <th>Kurtosis:</th>      <td> 2.840</td> <th>  Cond. No.          </th> <td>    11.1</td>\n",
       "</tr>\n",
       "</table><br/><br/>Notes:<br/>[1] Standard Errors assume that the covariance matrix of the errors is correctly specified."
      ],
      "text/latex": [
       "\\begin{center}\n",
       "\\begin{tabular}{lclc}\n",
       "\\toprule\n",
       "\\textbf{Dep. Variable:}    &      Profit      & \\textbf{  R-squared:         } &     0.966   \\\\\n",
       "\\textbf{Model:}            &       OLS        & \\textbf{  Adj. R-squared:    } &     0.961   \\\\\n",
       "\\textbf{Method:}           &  Least Squares   & \\textbf{  F-statistic:       } &     167.1   \\\\\n",
       "\\textbf{Date:}             & Fri, 22 Mar 2024 & \\textbf{  Prob (F-statistic):} &  1.87e-20   \\\\\n",
       "\\textbf{Time:}             &     17:44:54     & \\textbf{  Log-Likelihood:    } &    59.275   \\\\\n",
       "\\textbf{No. Observations:} &          35      & \\textbf{  AIC:               } &    -106.5   \\\\\n",
       "\\textbf{Df Residuals:}     &          29      & \\textbf{  BIC:               } &    -97.22   \\\\\n",
       "\\textbf{Df Model:}         &           5      & \\textbf{                     } &             \\\\\n",
       "\\textbf{Covariance Type:}  &    nonrobust     & \\textbf{                     } &             \\\\\n",
       "\\bottomrule\n",
       "\\end{tabular}\n",
       "\\begin{tabular}{lcccccc}\n",
       "                         & \\textbf{coef} & \\textbf{std err} & \\textbf{t} & \\textbf{P$> |$t$|$} & \\textbf{[0.025} & \\textbf{0.975]}  \\\\\n",
       "\\midrule\n",
       "\\textbf{const}           &       0.0543  &        0.031     &     1.744  &         0.092        &       -0.009    &        0.118     \\\\\n",
       "\\textbf{R\\&D Spend}      &       0.8758  &        0.047     &    18.696  &         0.000        &        0.780    &        0.972     \\\\\n",
       "\\textbf{Administration}  &      -0.0190  &        0.037     &    -0.515  &         0.610        &       -0.094    &        0.056     \\\\\n",
       "\\textbf{Marketing Spend} &       0.0647  &        0.044     &     1.455  &         0.156        &       -0.026    &        0.156     \\\\\n",
       "\\textbf{California}      &       0.0339  &        0.021     &     1.630  &         0.114        &       -0.009    &        0.076     \\\\\n",
       "\\textbf{Florida}         &       0.0129  &        0.021     &     0.624  &         0.537        &       -0.029    &        0.055     \\\\\n",
       "\\bottomrule\n",
       "\\end{tabular}\n",
       "\\begin{tabular}{lclc}\n",
       "\\textbf{Omnibus:}       &  0.515 & \\textbf{  Durbin-Watson:     } &    2.640  \\\\\n",
       "\\textbf{Prob(Omnibus):} &  0.773 & \\textbf{  Jarque-Bera (JB):  } &    0.388  \\\\\n",
       "\\textbf{Skew:}          & -0.245 & \\textbf{  Prob(JB):          } &    0.824  \\\\\n",
       "\\textbf{Kurtosis:}      &  2.840 & \\textbf{  Cond. No.          } &     11.1  \\\\\n",
       "\\bottomrule\n",
       "\\end{tabular}\n",
       "%\\caption{OLS Regression Results}\n",
       "\\end{center}\n",
       "\n",
       "Notes: \\newline\n",
       " [1] Standard Errors assume that the covariance matrix of the errors is correctly specified."
      ],
      "text/plain": [
       "<class 'statsmodels.iolib.summary.Summary'>\n",
       "\"\"\"\n",
       "                            OLS Regression Results                            \n",
       "==============================================================================\n",
       "Dep. Variable:                 Profit   R-squared:                       0.966\n",
       "Model:                            OLS   Adj. R-squared:                  0.961\n",
       "Method:                 Least Squares   F-statistic:                     167.1\n",
       "Date:                Fri, 22 Mar 2024   Prob (F-statistic):           1.87e-20\n",
       "Time:                        17:44:54   Log-Likelihood:                 59.275\n",
       "No. Observations:                  35   AIC:                            -106.5\n",
       "Df Residuals:                      29   BIC:                            -97.22\n",
       "Df Model:                           5                                         \n",
       "Covariance Type:            nonrobust                                         \n",
       "===================================================================================\n",
       "                      coef    std err          t      P>|t|      [0.025      0.975]\n",
       "-----------------------------------------------------------------------------------\n",
       "const               0.0543      0.031      1.744      0.092      -0.009       0.118\n",
       "R&D Spend           0.8758      0.047     18.696      0.000       0.780       0.972\n",
       "Administration     -0.0190      0.037     -0.515      0.610      -0.094       0.056\n",
       "Marketing Spend     0.0647      0.044      1.455      0.156      -0.026       0.156\n",
       "California          0.0339      0.021      1.630      0.114      -0.009       0.076\n",
       "Florida             0.0129      0.021      0.624      0.537      -0.029       0.055\n",
       "==============================================================================\n",
       "Omnibus:                        0.515   Durbin-Watson:                   2.640\n",
       "Prob(Omnibus):                  0.773   Jarque-Bera (JB):                0.388\n",
       "Skew:                          -0.245   Prob(JB):                        0.824\n",
       "Kurtosis:                       2.840   Cond. No.                         11.1\n",
       "==============================================================================\n",
       "\n",
       "Notes:\n",
       "[1] Standard Errors assume that the covariance matrix of the errors is correctly specified.\n",
       "\"\"\""
      ]
     },
     "execution_count": 35,
     "metadata": {},
     "output_type": "execute_result"
    }
   ],
   "source": [
    "lr_model = sm.OLS(y_train, X_train_sm)\n",
    "\n",
    "#fit\n",
    "startup_lr_model = lr_model.fit()\n",
    "\n",
    "#To print Summary\n",
    "startup_lr_model.summary()"
   ]
  },
  {
   "cell_type": "code",
   "execution_count": 36,
   "id": "75afdf05",
   "metadata": {},
   "outputs": [
    {
     "data": {
      "text/html": [
       "<div>\n",
       "<style scoped>\n",
       "    .dataframe tbody tr th:only-of-type {\n",
       "        vertical-align: middle;\n",
       "    }\n",
       "\n",
       "    .dataframe tbody tr th {\n",
       "        vertical-align: top;\n",
       "    }\n",
       "\n",
       "    .dataframe thead th {\n",
       "        text-align: right;\n",
       "    }\n",
       "</style>\n",
       "<table border=\"1\" class=\"dataframe\">\n",
       "  <thead>\n",
       "    <tr style=\"text-align: right;\">\n",
       "      <th></th>\n",
       "      <th>Features</th>\n",
       "      <th>VIF</th>\n",
       "    </tr>\n",
       "  </thead>\n",
       "  <tbody>\n",
       "    <tr>\n",
       "      <th>0</th>\n",
       "      <td>const</td>\n",
       "      <td>14.21</td>\n",
       "    </tr>\n",
       "    <tr>\n",
       "      <th>1</th>\n",
       "      <td>R&amp;D Spend</td>\n",
       "      <td>2.20</td>\n",
       "    </tr>\n",
       "    <tr>\n",
       "      <th>3</th>\n",
       "      <td>Marketing Spend</td>\n",
       "      <td>2.11</td>\n",
       "    </tr>\n",
       "    <tr>\n",
       "      <th>5</th>\n",
       "      <td>Florida</td>\n",
       "      <td>1.40</td>\n",
       "    </tr>\n",
       "    <tr>\n",
       "      <th>4</th>\n",
       "      <td>California</td>\n",
       "      <td>1.37</td>\n",
       "    </tr>\n",
       "    <tr>\n",
       "      <th>2</th>\n",
       "      <td>Administration</td>\n",
       "      <td>1.16</td>\n",
       "    </tr>\n",
       "  </tbody>\n",
       "</table>\n",
       "</div>"
      ],
      "text/plain": [
       "          Features    VIF\n",
       "0            const  14.21\n",
       "1        R&D Spend   2.20\n",
       "3  Marketing Spend   2.11\n",
       "5          Florida   1.40\n",
       "4       California   1.37\n",
       "2   Administration   1.16"
      ]
     },
     "execution_count": 36,
     "metadata": {},
     "output_type": "execute_result"
    }
   ],
   "source": [
    "# Checking VIF values of variances\n",
    "vif = pd.DataFrame()\n",
    "vif['Features'] = X_train_sm.columns\n",
    "vif['VIF'] = [variance_inflation_factor(X_train_sm.values, i) for i in range(X_train_sm.shape[1])]\n",
    "vif['VIF'] = round(vif['VIF'], 2)\n",
    "vif = vif.sort_values( by = 'VIF', ascending = False)\n",
    "vif"
   ]
  },
  {
   "cell_type": "markdown",
   "id": "71efd987",
   "metadata": {},
   "source": [
    "<span style=\"color:Green\">\n",
    "    \n",
    "### Observation from above:\n",
    "- VIF of Features are well within expected range of 5. \n",
    "- Dropping Administration column as P-value is 0.61 which is higher than acceptable range"
   ]
  },
  {
   "cell_type": "markdown",
   "id": "11f7860c",
   "metadata": {},
   "source": [
    "#"
   ]
  },
  {
   "cell_type": "markdown",
   "id": "49455a07",
   "metadata": {},
   "source": [
    "### 4.3 Model Building 3\n",
    "- Drop **'Administration'** Column"
   ]
  },
  {
   "cell_type": "code",
   "execution_count": 37,
   "id": "1f635487",
   "metadata": {},
   "outputs": [],
   "source": [
    "# Drop 'Administration' column\n",
    "X_train_sm = X_train_sm.drop(['Administration'], axis = 'columns')"
   ]
  },
  {
   "cell_type": "code",
   "execution_count": 38,
   "id": "e81321f7",
   "metadata": {},
   "outputs": [
    {
     "data": {
      "text/html": [
       "<table class=\"simpletable\">\n",
       "<caption>OLS Regression Results</caption>\n",
       "<tr>\n",
       "  <th>Dep. Variable:</th>         <td>Profit</td>      <th>  R-squared:         </th> <td>   0.966</td>\n",
       "</tr>\n",
       "<tr>\n",
       "  <th>Model:</th>                   <td>OLS</td>       <th>  Adj. R-squared:    </th> <td>   0.962</td>\n",
       "</tr>\n",
       "<tr>\n",
       "  <th>Method:</th>             <td>Least Squares</td>  <th>  F-statistic:       </th> <td>   214.1</td>\n",
       "</tr>\n",
       "<tr>\n",
       "  <th>Date:</th>             <td>Fri, 22 Mar 2024</td> <th>  Prob (F-statistic):</th> <td>1.36e-21</td>\n",
       "</tr>\n",
       "<tr>\n",
       "  <th>Time:</th>                 <td>17:44:54</td>     <th>  Log-Likelihood:    </th> <td>  59.115</td>\n",
       "</tr>\n",
       "<tr>\n",
       "  <th>No. Observations:</th>      <td>    35</td>      <th>  AIC:               </th> <td>  -108.2</td>\n",
       "</tr>\n",
       "<tr>\n",
       "  <th>Df Residuals:</th>          <td>    30</td>      <th>  BIC:               </th> <td>  -100.5</td>\n",
       "</tr>\n",
       "<tr>\n",
       "  <th>Df Model:</th>              <td>     4</td>      <th>                     </th>     <td> </td>   \n",
       "</tr>\n",
       "<tr>\n",
       "  <th>Covariance Type:</th>      <td>nonrobust</td>    <th>                     </th>     <td> </td>   \n",
       "</tr>\n",
       "</table>\n",
       "<table class=\"simpletable\">\n",
       "<tr>\n",
       "         <td></td>            <th>coef</th>     <th>std err</th>      <th>t</th>      <th>P>|t|</th>  <th>[0.025</th>    <th>0.975]</th>  \n",
       "</tr>\n",
       "<tr>\n",
       "  <th>const</th>           <td>    0.0429</td> <td>    0.022</td> <td>    1.986</td> <td> 0.056</td> <td>   -0.001</td> <td>    0.087</td>\n",
       "</tr>\n",
       "<tr>\n",
       "  <th>R&D Spend</th>       <td>    0.8682</td> <td>    0.044</td> <td>   19.754</td> <td> 0.000</td> <td>    0.778</td> <td>    0.958</td>\n",
       "</tr>\n",
       "<tr>\n",
       "  <th>Marketing Spend</th> <td>    0.0688</td> <td>    0.043</td> <td>    1.592</td> <td> 0.122</td> <td>   -0.019</td> <td>    0.157</td>\n",
       "</tr>\n",
       "<tr>\n",
       "  <th>California</th>      <td>    0.0326</td> <td>    0.020</td> <td>    1.598</td> <td> 0.120</td> <td>   -0.009</td> <td>    0.074</td>\n",
       "</tr>\n",
       "<tr>\n",
       "  <th>Florida</th>         <td>    0.0140</td> <td>    0.020</td> <td>    0.693</td> <td> 0.494</td> <td>   -0.027</td> <td>    0.055</td>\n",
       "</tr>\n",
       "</table>\n",
       "<table class=\"simpletable\">\n",
       "<tr>\n",
       "  <th>Omnibus:</th>       <td> 0.552</td> <th>  Durbin-Watson:     </th> <td>   2.602</td>\n",
       "</tr>\n",
       "<tr>\n",
       "  <th>Prob(Omnibus):</th> <td> 0.759</td> <th>  Jarque-Bera (JB):  </th> <td>   0.256</td>\n",
       "</tr>\n",
       "<tr>\n",
       "  <th>Skew:</th>          <td>-0.209</td> <th>  Prob(JB):          </th> <td>   0.880</td>\n",
       "</tr>\n",
       "<tr>\n",
       "  <th>Kurtosis:</th>      <td> 2.988</td> <th>  Cond. No.          </th> <td>    9.19</td>\n",
       "</tr>\n",
       "</table><br/><br/>Notes:<br/>[1] Standard Errors assume that the covariance matrix of the errors is correctly specified."
      ],
      "text/latex": [
       "\\begin{center}\n",
       "\\begin{tabular}{lclc}\n",
       "\\toprule\n",
       "\\textbf{Dep. Variable:}    &      Profit      & \\textbf{  R-squared:         } &     0.966   \\\\\n",
       "\\textbf{Model:}            &       OLS        & \\textbf{  Adj. R-squared:    } &     0.962   \\\\\n",
       "\\textbf{Method:}           &  Least Squares   & \\textbf{  F-statistic:       } &     214.1   \\\\\n",
       "\\textbf{Date:}             & Fri, 22 Mar 2024 & \\textbf{  Prob (F-statistic):} &  1.36e-21   \\\\\n",
       "\\textbf{Time:}             &     17:44:54     & \\textbf{  Log-Likelihood:    } &    59.115   \\\\\n",
       "\\textbf{No. Observations:} &          35      & \\textbf{  AIC:               } &    -108.2   \\\\\n",
       "\\textbf{Df Residuals:}     &          30      & \\textbf{  BIC:               } &    -100.5   \\\\\n",
       "\\textbf{Df Model:}         &           4      & \\textbf{                     } &             \\\\\n",
       "\\textbf{Covariance Type:}  &    nonrobust     & \\textbf{                     } &             \\\\\n",
       "\\bottomrule\n",
       "\\end{tabular}\n",
       "\\begin{tabular}{lcccccc}\n",
       "                         & \\textbf{coef} & \\textbf{std err} & \\textbf{t} & \\textbf{P$> |$t$|$} & \\textbf{[0.025} & \\textbf{0.975]}  \\\\\n",
       "\\midrule\n",
       "\\textbf{const}           &       0.0429  &        0.022     &     1.986  &         0.056        &       -0.001    &        0.087     \\\\\n",
       "\\textbf{R\\&D Spend}      &       0.8682  &        0.044     &    19.754  &         0.000        &        0.778    &        0.958     \\\\\n",
       "\\textbf{Marketing Spend} &       0.0688  &        0.043     &     1.592  &         0.122        &       -0.019    &        0.157     \\\\\n",
       "\\textbf{California}      &       0.0326  &        0.020     &     1.598  &         0.120        &       -0.009    &        0.074     \\\\\n",
       "\\textbf{Florida}         &       0.0140  &        0.020     &     0.693  &         0.494        &       -0.027    &        0.055     \\\\\n",
       "\\bottomrule\n",
       "\\end{tabular}\n",
       "\\begin{tabular}{lclc}\n",
       "\\textbf{Omnibus:}       &  0.552 & \\textbf{  Durbin-Watson:     } &    2.602  \\\\\n",
       "\\textbf{Prob(Omnibus):} &  0.759 & \\textbf{  Jarque-Bera (JB):  } &    0.256  \\\\\n",
       "\\textbf{Skew:}          & -0.209 & \\textbf{  Prob(JB):          } &    0.880  \\\\\n",
       "\\textbf{Kurtosis:}      &  2.988 & \\textbf{  Cond. No.          } &     9.19  \\\\\n",
       "\\bottomrule\n",
       "\\end{tabular}\n",
       "%\\caption{OLS Regression Results}\n",
       "\\end{center}\n",
       "\n",
       "Notes: \\newline\n",
       " [1] Standard Errors assume that the covariance matrix of the errors is correctly specified."
      ],
      "text/plain": [
       "<class 'statsmodels.iolib.summary.Summary'>\n",
       "\"\"\"\n",
       "                            OLS Regression Results                            \n",
       "==============================================================================\n",
       "Dep. Variable:                 Profit   R-squared:                       0.966\n",
       "Model:                            OLS   Adj. R-squared:                  0.962\n",
       "Method:                 Least Squares   F-statistic:                     214.1\n",
       "Date:                Fri, 22 Mar 2024   Prob (F-statistic):           1.36e-21\n",
       "Time:                        17:44:54   Log-Likelihood:                 59.115\n",
       "No. Observations:                  35   AIC:                            -108.2\n",
       "Df Residuals:                      30   BIC:                            -100.5\n",
       "Df Model:                           4                                         \n",
       "Covariance Type:            nonrobust                                         \n",
       "===================================================================================\n",
       "                      coef    std err          t      P>|t|      [0.025      0.975]\n",
       "-----------------------------------------------------------------------------------\n",
       "const               0.0429      0.022      1.986      0.056      -0.001       0.087\n",
       "R&D Spend           0.8682      0.044     19.754      0.000       0.778       0.958\n",
       "Marketing Spend     0.0688      0.043      1.592      0.122      -0.019       0.157\n",
       "California          0.0326      0.020      1.598      0.120      -0.009       0.074\n",
       "Florida             0.0140      0.020      0.693      0.494      -0.027       0.055\n",
       "==============================================================================\n",
       "Omnibus:                        0.552   Durbin-Watson:                   2.602\n",
       "Prob(Omnibus):                  0.759   Jarque-Bera (JB):                0.256\n",
       "Skew:                          -0.209   Prob(JB):                        0.880\n",
       "Kurtosis:                       2.988   Cond. No.                         9.19\n",
       "==============================================================================\n",
       "\n",
       "Notes:\n",
       "[1] Standard Errors assume that the covariance matrix of the errors is correctly specified.\n",
       "\"\"\""
      ]
     },
     "execution_count": 38,
     "metadata": {},
     "output_type": "execute_result"
    }
   ],
   "source": [
    "lr_model = sm.OLS(y_train, X_train_sm)\n",
    "\n",
    "#fit\n",
    "startup_lr_model = lr_model.fit()\n",
    "\n",
    "#To print Summary\n",
    "startup_lr_model.summary()"
   ]
  },
  {
   "cell_type": "code",
   "execution_count": 39,
   "id": "8788a17a",
   "metadata": {},
   "outputs": [
    {
     "data": {
      "text/html": [
       "<div>\n",
       "<style scoped>\n",
       "    .dataframe tbody tr th:only-of-type {\n",
       "        vertical-align: middle;\n",
       "    }\n",
       "\n",
       "    .dataframe tbody tr th {\n",
       "        vertical-align: top;\n",
       "    }\n",
       "\n",
       "    .dataframe thead th {\n",
       "        text-align: right;\n",
       "    }\n",
       "</style>\n",
       "<table border=\"1\" class=\"dataframe\">\n",
       "  <thead>\n",
       "    <tr style=\"text-align: right;\">\n",
       "      <th></th>\n",
       "      <th>Features</th>\n",
       "      <th>VIF</th>\n",
       "    </tr>\n",
       "  </thead>\n",
       "  <tbody>\n",
       "    <tr>\n",
       "      <th>0</th>\n",
       "      <td>const</td>\n",
       "      <td>6.99</td>\n",
       "    </tr>\n",
       "    <tr>\n",
       "      <th>2</th>\n",
       "      <td>Marketing Spend</td>\n",
       "      <td>2.04</td>\n",
       "    </tr>\n",
       "    <tr>\n",
       "      <th>1</th>\n",
       "      <td>R&amp;D Spend</td>\n",
       "      <td>1.98</td>\n",
       "    </tr>\n",
       "    <tr>\n",
       "      <th>4</th>\n",
       "      <td>Florida</td>\n",
       "      <td>1.38</td>\n",
       "    </tr>\n",
       "    <tr>\n",
       "      <th>3</th>\n",
       "      <td>California</td>\n",
       "      <td>1.34</td>\n",
       "    </tr>\n",
       "  </tbody>\n",
       "</table>\n",
       "</div>"
      ],
      "text/plain": [
       "          Features   VIF\n",
       "0            const  6.99\n",
       "2  Marketing Spend  2.04\n",
       "1        R&D Spend  1.98\n",
       "4          Florida  1.38\n",
       "3       California  1.34"
      ]
     },
     "execution_count": 39,
     "metadata": {},
     "output_type": "execute_result"
    }
   ],
   "source": [
    "# Checking VIF values of variances\n",
    "vif = pd.DataFrame()\n",
    "vif['Features'] = X_train_sm.columns\n",
    "vif['VIF'] = [variance_inflation_factor(X_train_sm.values, i) for i in range(X_train_sm.shape[1])]\n",
    "vif['VIF'] = round(vif['VIF'], 2)\n",
    "vif = vif.sort_values( by = 'VIF', ascending = False)\n",
    "vif"
   ]
  },
  {
   "cell_type": "markdown",
   "id": "6ee040c7",
   "metadata": {},
   "source": [
    "<span style=\"color:Green\">\n",
    "    \n",
    "### Observation from above:\n",
    "- VIF of Features are well within expected range of 5. \n",
    "- Dropping 'Florida' column as P-value is 0.494which is higher than acceptable range"
   ]
  },
  {
   "cell_type": "markdown",
   "id": "f7916d68",
   "metadata": {},
   "source": [
    "#"
   ]
  },
  {
   "cell_type": "markdown",
   "id": "c0d54be3",
   "metadata": {},
   "source": [
    "### 4.3 Model Building 4\n",
    "- Drop **'Florida'** Column"
   ]
  },
  {
   "cell_type": "code",
   "execution_count": 40,
   "id": "53a0803d",
   "metadata": {},
   "outputs": [],
   "source": [
    "# Drop 'Administration' column\n",
    "X_train_sm = X_train_sm.drop(['Florida'], axis = 'columns')"
   ]
  },
  {
   "cell_type": "code",
   "execution_count": 41,
   "id": "04043558",
   "metadata": {},
   "outputs": [
    {
     "data": {
      "text/html": [
       "<table class=\"simpletable\">\n",
       "<caption>OLS Regression Results</caption>\n",
       "<tr>\n",
       "  <th>Dep. Variable:</th>         <td>Profit</td>      <th>  R-squared:         </th> <td>   0.966</td>\n",
       "</tr>\n",
       "<tr>\n",
       "  <th>Model:</th>                   <td>OLS</td>       <th>  Adj. R-squared:    </th> <td>   0.962</td>\n",
       "</tr>\n",
       "<tr>\n",
       "  <th>Method:</th>             <td>Least Squares</td>  <th>  F-statistic:       </th> <td>   290.1</td>\n",
       "</tr>\n",
       "<tr>\n",
       "  <th>Date:</th>             <td>Fri, 22 Mar 2024</td> <th>  Prob (F-statistic):</th> <td>9.25e-23</td>\n",
       "</tr>\n",
       "<tr>\n",
       "  <th>Time:</th>                 <td>17:44:55</td>     <th>  Log-Likelihood:    </th> <td>  58.837</td>\n",
       "</tr>\n",
       "<tr>\n",
       "  <th>No. Observations:</th>      <td>    35</td>      <th>  AIC:               </th> <td>  -109.7</td>\n",
       "</tr>\n",
       "<tr>\n",
       "  <th>Df Residuals:</th>          <td>    31</td>      <th>  BIC:               </th> <td>  -103.5</td>\n",
       "</tr>\n",
       "<tr>\n",
       "  <th>Df Model:</th>              <td>     3</td>      <th>                     </th>     <td> </td>   \n",
       "</tr>\n",
       "<tr>\n",
       "  <th>Covariance Type:</th>      <td>nonrobust</td>    <th>                     </th>     <td> </td>   \n",
       "</tr>\n",
       "</table>\n",
       "<table class=\"simpletable\">\n",
       "<tr>\n",
       "         <td></td>            <th>coef</th>     <th>std err</th>      <th>t</th>      <th>P>|t|</th>  <th>[0.025</th>    <th>0.975]</th>  \n",
       "</tr>\n",
       "<tr>\n",
       "  <th>const</th>           <td>    0.0480</td> <td>    0.020</td> <td>    2.392</td> <td> 0.023</td> <td>    0.007</td> <td>    0.089</td>\n",
       "</tr>\n",
       "<tr>\n",
       "  <th>R&D Spend</th>       <td>    0.8654</td> <td>    0.043</td> <td>   19.944</td> <td> 0.000</td> <td>    0.777</td> <td>    0.954</td>\n",
       "</tr>\n",
       "<tr>\n",
       "  <th>Marketing Spend</th> <td>    0.0752</td> <td>    0.042</td> <td>    1.793</td> <td> 0.083</td> <td>   -0.010</td> <td>    0.161</td>\n",
       "</tr>\n",
       "<tr>\n",
       "  <th>California</th>      <td>    0.0259</td> <td>    0.018</td> <td>    1.454</td> <td> 0.156</td> <td>   -0.010</td> <td>    0.062</td>\n",
       "</tr>\n",
       "</table>\n",
       "<table class=\"simpletable\">\n",
       "<tr>\n",
       "  <th>Omnibus:</th>       <td> 0.290</td> <th>  Durbin-Watson:     </th> <td>   2.634</td>\n",
       "</tr>\n",
       "<tr>\n",
       "  <th>Prob(Omnibus):</th> <td> 0.865</td> <th>  Jarque-Bera (JB):  </th> <td>   0.144</td>\n",
       "</tr>\n",
       "<tr>\n",
       "  <th>Skew:</th>          <td>-0.150</td> <th>  Prob(JB):          </th> <td>   0.931</td>\n",
       "</tr>\n",
       "<tr>\n",
       "  <th>Kurtosis:</th>      <td> 2.905</td> <th>  Cond. No.          </th> <td>    8.69</td>\n",
       "</tr>\n",
       "</table><br/><br/>Notes:<br/>[1] Standard Errors assume that the covariance matrix of the errors is correctly specified."
      ],
      "text/latex": [
       "\\begin{center}\n",
       "\\begin{tabular}{lclc}\n",
       "\\toprule\n",
       "\\textbf{Dep. Variable:}    &      Profit      & \\textbf{  R-squared:         } &     0.966   \\\\\n",
       "\\textbf{Model:}            &       OLS        & \\textbf{  Adj. R-squared:    } &     0.962   \\\\\n",
       "\\textbf{Method:}           &  Least Squares   & \\textbf{  F-statistic:       } &     290.1   \\\\\n",
       "\\textbf{Date:}             & Fri, 22 Mar 2024 & \\textbf{  Prob (F-statistic):} &  9.25e-23   \\\\\n",
       "\\textbf{Time:}             &     17:44:55     & \\textbf{  Log-Likelihood:    } &    58.837   \\\\\n",
       "\\textbf{No. Observations:} &          35      & \\textbf{  AIC:               } &    -109.7   \\\\\n",
       "\\textbf{Df Residuals:}     &          31      & \\textbf{  BIC:               } &    -103.5   \\\\\n",
       "\\textbf{Df Model:}         &           3      & \\textbf{                     } &             \\\\\n",
       "\\textbf{Covariance Type:}  &    nonrobust     & \\textbf{                     } &             \\\\\n",
       "\\bottomrule\n",
       "\\end{tabular}\n",
       "\\begin{tabular}{lcccccc}\n",
       "                         & \\textbf{coef} & \\textbf{std err} & \\textbf{t} & \\textbf{P$> |$t$|$} & \\textbf{[0.025} & \\textbf{0.975]}  \\\\\n",
       "\\midrule\n",
       "\\textbf{const}           &       0.0480  &        0.020     &     2.392  &         0.023        &        0.007    &        0.089     \\\\\n",
       "\\textbf{R\\&D Spend}      &       0.8654  &        0.043     &    19.944  &         0.000        &        0.777    &        0.954     \\\\\n",
       "\\textbf{Marketing Spend} &       0.0752  &        0.042     &     1.793  &         0.083        &       -0.010    &        0.161     \\\\\n",
       "\\textbf{California}      &       0.0259  &        0.018     &     1.454  &         0.156        &       -0.010    &        0.062     \\\\\n",
       "\\bottomrule\n",
       "\\end{tabular}\n",
       "\\begin{tabular}{lclc}\n",
       "\\textbf{Omnibus:}       &  0.290 & \\textbf{  Durbin-Watson:     } &    2.634  \\\\\n",
       "\\textbf{Prob(Omnibus):} &  0.865 & \\textbf{  Jarque-Bera (JB):  } &    0.144  \\\\\n",
       "\\textbf{Skew:}          & -0.150 & \\textbf{  Prob(JB):          } &    0.931  \\\\\n",
       "\\textbf{Kurtosis:}      &  2.905 & \\textbf{  Cond. No.          } &     8.69  \\\\\n",
       "\\bottomrule\n",
       "\\end{tabular}\n",
       "%\\caption{OLS Regression Results}\n",
       "\\end{center}\n",
       "\n",
       "Notes: \\newline\n",
       " [1] Standard Errors assume that the covariance matrix of the errors is correctly specified."
      ],
      "text/plain": [
       "<class 'statsmodels.iolib.summary.Summary'>\n",
       "\"\"\"\n",
       "                            OLS Regression Results                            \n",
       "==============================================================================\n",
       "Dep. Variable:                 Profit   R-squared:                       0.966\n",
       "Model:                            OLS   Adj. R-squared:                  0.962\n",
       "Method:                 Least Squares   F-statistic:                     290.1\n",
       "Date:                Fri, 22 Mar 2024   Prob (F-statistic):           9.25e-23\n",
       "Time:                        17:44:55   Log-Likelihood:                 58.837\n",
       "No. Observations:                  35   AIC:                            -109.7\n",
       "Df Residuals:                      31   BIC:                            -103.5\n",
       "Df Model:                           3                                         \n",
       "Covariance Type:            nonrobust                                         \n",
       "===================================================================================\n",
       "                      coef    std err          t      P>|t|      [0.025      0.975]\n",
       "-----------------------------------------------------------------------------------\n",
       "const               0.0480      0.020      2.392      0.023       0.007       0.089\n",
       "R&D Spend           0.8654      0.043     19.944      0.000       0.777       0.954\n",
       "Marketing Spend     0.0752      0.042      1.793      0.083      -0.010       0.161\n",
       "California          0.0259      0.018      1.454      0.156      -0.010       0.062\n",
       "==============================================================================\n",
       "Omnibus:                        0.290   Durbin-Watson:                   2.634\n",
       "Prob(Omnibus):                  0.865   Jarque-Bera (JB):                0.144\n",
       "Skew:                          -0.150   Prob(JB):                        0.931\n",
       "Kurtosis:                       2.905   Cond. No.                         8.69\n",
       "==============================================================================\n",
       "\n",
       "Notes:\n",
       "[1] Standard Errors assume that the covariance matrix of the errors is correctly specified.\n",
       "\"\"\""
      ]
     },
     "execution_count": 41,
     "metadata": {},
     "output_type": "execute_result"
    }
   ],
   "source": [
    "lr_model = sm.OLS(y_train, X_train_sm)\n",
    "\n",
    "#fit\n",
    "startup_lr_model = lr_model.fit()\n",
    "\n",
    "#To print Summary\n",
    "startup_lr_model.summary()"
   ]
  },
  {
   "cell_type": "code",
   "execution_count": 42,
   "id": "f0b744dc",
   "metadata": {},
   "outputs": [
    {
     "data": {
      "text/html": [
       "<div>\n",
       "<style scoped>\n",
       "    .dataframe tbody tr th:only-of-type {\n",
       "        vertical-align: middle;\n",
       "    }\n",
       "\n",
       "    .dataframe tbody tr th {\n",
       "        vertical-align: top;\n",
       "    }\n",
       "\n",
       "    .dataframe thead th {\n",
       "        text-align: right;\n",
       "    }\n",
       "</style>\n",
       "<table border=\"1\" class=\"dataframe\">\n",
       "  <thead>\n",
       "    <tr style=\"text-align: right;\">\n",
       "      <th></th>\n",
       "      <th>Features</th>\n",
       "      <th>VIF</th>\n",
       "    </tr>\n",
       "  </thead>\n",
       "  <tbody>\n",
       "    <tr>\n",
       "      <th>0</th>\n",
       "      <td>const</td>\n",
       "      <td>6.16</td>\n",
       "    </tr>\n",
       "    <tr>\n",
       "      <th>1</th>\n",
       "      <td>R&amp;D Spend</td>\n",
       "      <td>1.97</td>\n",
       "    </tr>\n",
       "    <tr>\n",
       "      <th>2</th>\n",
       "      <td>Marketing Spend</td>\n",
       "      <td>1.95</td>\n",
       "    </tr>\n",
       "    <tr>\n",
       "      <th>3</th>\n",
       "      <td>California</td>\n",
       "      <td>1.05</td>\n",
       "    </tr>\n",
       "  </tbody>\n",
       "</table>\n",
       "</div>"
      ],
      "text/plain": [
       "          Features   VIF\n",
       "0            const  6.16\n",
       "1        R&D Spend  1.97\n",
       "2  Marketing Spend  1.95\n",
       "3       California  1.05"
      ]
     },
     "execution_count": 42,
     "metadata": {},
     "output_type": "execute_result"
    }
   ],
   "source": [
    "vif = pd.DataFrame()\n",
    "vif['Features'] = X_train_sm.columns\n",
    "vif['VIF'] = [variance_inflation_factor(X_train_sm.values, i) for i in range(X_train_sm.shape[1])]\n",
    "vif['VIF'] = round(vif['VIF'], 2)\n",
    "vif = vif.sort_values( by = 'VIF', ascending = False)\n",
    "vif"
   ]
  },
  {
   "cell_type": "markdown",
   "id": "a02a012b",
   "metadata": {},
   "source": [
    "<span style=\"color:Green\">\n",
    "    \n",
    "### Observation from above:\n",
    "- VIF of Features and P-Values of all variances are well within expected range. \n",
    "- Hence proceeding towards Model Prediction and evaluation on test set"
   ]
  },
  {
   "cell_type": "markdown",
   "id": "72d15344",
   "metadata": {},
   "source": [
    "#"
   ]
  },
  {
   "cell_type": "markdown",
   "id": "1e9f65d3",
   "metadata": {},
   "source": [
    "## Step 5: Prediction and Evaluation on Test Set"
   ]
  },
  {
   "cell_type": "markdown",
   "id": "73595868",
   "metadata": {},
   "source": [
    "### 5.1: Rescaling the Test Set"
   ]
  },
  {
   "cell_type": "code",
   "execution_count": 43,
   "id": "0b1b4200",
   "metadata": {},
   "outputs": [
    {
     "data": {
      "text/html": [
       "<div>\n",
       "<style scoped>\n",
       "    .dataframe tbody tr th:only-of-type {\n",
       "        vertical-align: middle;\n",
       "    }\n",
       "\n",
       "    .dataframe tbody tr th {\n",
       "        vertical-align: top;\n",
       "    }\n",
       "\n",
       "    .dataframe thead th {\n",
       "        text-align: right;\n",
       "    }\n",
       "</style>\n",
       "<table border=\"1\" class=\"dataframe\">\n",
       "  <thead>\n",
       "    <tr style=\"text-align: right;\">\n",
       "      <th></th>\n",
       "      <th>R&amp;D Spend</th>\n",
       "      <th>Administration</th>\n",
       "      <th>Marketing Spend</th>\n",
       "      <th>Profit</th>\n",
       "      <th>California</th>\n",
       "      <th>Florida</th>\n",
       "      <th>New York</th>\n",
       "    </tr>\n",
       "  </thead>\n",
       "  <tbody>\n",
       "    <tr>\n",
       "      <th>6</th>\n",
       "      <td>134615.46</td>\n",
       "      <td>147198.87</td>\n",
       "      <td>127716.82</td>\n",
       "      <td>156122.51</td>\n",
       "      <td>1</td>\n",
       "      <td>0</td>\n",
       "      <td>0</td>\n",
       "    </tr>\n",
       "    <tr>\n",
       "      <th>36</th>\n",
       "      <td>28663.76</td>\n",
       "      <td>127056.21</td>\n",
       "      <td>201126.82</td>\n",
       "      <td>90708.19</td>\n",
       "      <td>0</td>\n",
       "      <td>1</td>\n",
       "      <td>0</td>\n",
       "    </tr>\n",
       "    <tr>\n",
       "      <th>37</th>\n",
       "      <td>44069.95</td>\n",
       "      <td>51283.14</td>\n",
       "      <td>197029.42</td>\n",
       "      <td>89949.14</td>\n",
       "      <td>1</td>\n",
       "      <td>0</td>\n",
       "      <td>0</td>\n",
       "    </tr>\n",
       "    <tr>\n",
       "      <th>28</th>\n",
       "      <td>66051.52</td>\n",
       "      <td>182645.56</td>\n",
       "      <td>118148.20</td>\n",
       "      <td>103282.38</td>\n",
       "      <td>0</td>\n",
       "      <td>1</td>\n",
       "      <td>0</td>\n",
       "    </tr>\n",
       "    <tr>\n",
       "      <th>43</th>\n",
       "      <td>15505.73</td>\n",
       "      <td>127382.30</td>\n",
       "      <td>35534.17</td>\n",
       "      <td>69758.98</td>\n",
       "      <td>0</td>\n",
       "      <td>0</td>\n",
       "      <td>1</td>\n",
       "    </tr>\n",
       "  </tbody>\n",
       "</table>\n",
       "</div>"
      ],
      "text/plain": [
       "    R&D Spend  Administration  Marketing Spend     Profit  California  \\\n",
       "6   134615.46       147198.87        127716.82  156122.51           1   \n",
       "36   28663.76       127056.21        201126.82   90708.19           0   \n",
       "37   44069.95        51283.14        197029.42   89949.14           1   \n",
       "28   66051.52       182645.56        118148.20  103282.38           0   \n",
       "43   15505.73       127382.30         35534.17   69758.98           0   \n",
       "\n",
       "    Florida  New York  \n",
       "6         0         0  \n",
       "36        1         0  \n",
       "37        0         0  \n",
       "28        1         0  \n",
       "43        0         1  "
      ]
     },
     "execution_count": 43,
     "metadata": {},
     "output_type": "execute_result"
    }
   ],
   "source": [
    "df_test.head()"
   ]
  },
  {
   "cell_type": "code",
   "execution_count": 44,
   "id": "60138c2c",
   "metadata": {},
   "outputs": [],
   "source": [
    "num_vars = ['R&D Spend', 'Administration', 'Marketing Spend', 'Profit']\n",
    "\n",
    "df_test[num_vars] = scaler.transform(df_test[num_vars])"
   ]
  },
  {
   "cell_type": "markdown",
   "id": "c9bea0c1",
   "metadata": {},
   "source": [
    "### 5.2: Splitting test sets into X_test and y_test\n"
   ]
  },
  {
   "cell_type": "code",
   "execution_count": 45,
   "id": "b97c6a97",
   "metadata": {},
   "outputs": [],
   "source": [
    "X_test = df_test.drop('Profit', axis = 'columns')\n",
    "y_test = df_test['Profit']"
   ]
  },
  {
   "cell_type": "code",
   "execution_count": 46,
   "id": "6863f48f",
   "metadata": {},
   "outputs": [
    {
     "data": {
      "text/plain": [
       "Index(['R&D Spend', 'Marketing Spend', 'California'], dtype='object')"
      ]
     },
     "execution_count": 46,
     "metadata": {},
     "output_type": "execute_result"
    }
   ],
   "source": [
    "X_train_columns_ref = X_train_sm[X_train_sm.columns]\n",
    "X_train_columns_ref= X_train_columns_ref.drop('const', axis=1)\n",
    "X_train_columns_ref.columns"
   ]
  },
  {
   "cell_type": "code",
   "execution_count": 47,
   "id": "086a1eeb",
   "metadata": {},
   "outputs": [],
   "source": [
    "X_test_new = X_test[X_train_columns_ref.columns]"
   ]
  },
  {
   "cell_type": "code",
   "execution_count": 48,
   "id": "0e040166",
   "metadata": {},
   "outputs": [],
   "source": [
    "# Adding constant to the test dataset\n",
    "X_test_new = sm.add_constant(X_test_new)\n"
   ]
  },
  {
   "cell_type": "markdown",
   "id": "06b52742",
   "metadata": {},
   "source": [
    "### 5.3: Evaluation of test via comparison of y_pred and y_test"
   ]
  },
  {
   "cell_type": "code",
   "execution_count": 49,
   "id": "c8fab120",
   "metadata": {},
   "outputs": [],
   "source": [
    "# Making predictions by \n",
    "from sklearn.linear_model import LinearRegression\n",
    "lm = LinearRegression()\n",
    "lm = sm.OLS(y_train,X_train_sm).fit()\n",
    "y_pred = lm.predict(X_test_new)"
   ]
  },
  {
   "cell_type": "code",
   "execution_count": 50,
   "id": "58d64245",
   "metadata": {},
   "outputs": [
    {
     "data": {
      "text/plain": [
       "0.9122789263705183"
      ]
     },
     "execution_count": 50,
     "metadata": {},
     "output_type": "execute_result"
    }
   ],
   "source": [
    "from sklearn.metrics import r2_score\n",
    "r2_score(y_test, y_pred)"
   ]
  },
  {
   "cell_type": "code",
   "execution_count": 51,
   "id": "aaf5abb5",
   "metadata": {},
   "outputs": [
    {
     "data": {
      "image/png": "[encoded data removed]",
      "text/plain": [
       "<Figure size 640x480 with 1 Axes>"
      ]
     },
     "metadata": {},
     "output_type": "display_data"
    }
   ],
   "source": [
    "# Plotting y_test and y_pred to understand the spread.\n",
    "\n",
    "plt.scatter(y_test,y_pred)\n",
    "plt.title('y_test vs y_pred', fontsize=20)              \n",
    "plt.xlabel('y_test')                        \n",
    "plt.ylabel('y_pred') \n",
    "plt.show()"
   ]
  },
  {
   "cell_type": "code",
   "execution_count": 52,
   "id": "81c368bb",
   "metadata": {},
   "outputs": [
    {
     "name": "stdout",
     "output_type": "stream",
     "text": [
      "                            OLS Regression Results                            \n",
      "==============================================================================\n",
      "Dep. Variable:                 Profit   R-squared:                       0.966\n",
      "Model:                            OLS   Adj. R-squared:                  0.962\n",
      "Method:                 Least Squares   F-statistic:                     290.1\n",
      "Date:                Fri, 22 Mar 2024   Prob (F-statistic):           9.25e-23\n",
      "Time:                        17:44:56   Log-Likelihood:                 58.837\n",
      "No. Observations:                  35   AIC:                            -109.7\n",
      "Df Residuals:                      31   BIC:                            -103.5\n",
      "Df Model:                           3                                         \n",
      "Covariance Type:            nonrobust                                         \n",
      "===================================================================================\n",
      "                      coef    std err          t      P>|t|      [0.025      0.975]\n",
      "-----------------------------------------------------------------------------------\n",
      "const               0.0480      0.020      2.392      0.023       0.007       0.089\n",
      "R&D Spend           0.8654      0.043     19.944      0.000       0.777       0.954\n",
      "Marketing Spend     0.0752      0.042      1.793      0.083      -0.010       0.161\n",
      "California          0.0259      0.018      1.454      0.156      -0.010       0.062\n",
      "==============================================================================\n",
      "Omnibus:                        0.290   Durbin-Watson:                   2.634\n",
      "Prob(Omnibus):                  0.865   Jarque-Bera (JB):                0.144\n",
      "Skew:                          -0.150   Prob(JB):                        0.931\n",
      "Kurtosis:                       2.905   Cond. No.                         8.69\n",
      "==============================================================================\n",
      "\n",
      "Notes:\n",
      "[1] Standard Errors assume that the covariance matrix of the errors is correctly specified.\n"
     ]
    }
   ],
   "source": [
    "print(lm.summary())"
   ]
  },
  {
   "cell_type": "markdown",
   "id": "425f10ef",
   "metadata": {},
   "source": [
    "<span style=\"color:Green\">\n",
    "\n",
    "### Observation: \n",
    "\n",
    "- **R-sqaured and Adjusted R-squared (extent of fit)** - 0.966 and 0.962 - 96% variance explained.\n",
    "- **F-stats and Prob(F-stats) (overall model fit)** - 290.1 and 9.25e-23(approx. 0.0) - Model fir is significant and explained 90% variance is just not by chance.\n",
    "- **p-values** - p-values for all the coefficients seem to be less than the significance level of 0.05. - meaning that all the predictors are statistically significant."
   ]
  },
  {
   "cell_type": "code",
   "execution_count": null,
   "id": "6560f23c",
   "metadata": {},
   "outputs": [],
   "source": []
  }
 ],
 "metadata": {
  "kernelspec": {
   "display_name": "Python 3 (ipykernel)",
   "language": "python",
   "name": "python3"
  },
  "language_info": {
   "codemirror_mode": {
    "name": "ipython",
    "version": 3
   },
   "file_extension": ".py",
   "mimetype": "text/x-python",
   "name": "python",
   "nbconvert_exporter": "python",
   "pygments_lexer": "ipython3",
   "version": "3.11.4"
  }
 },
 "nbformat": 4,
 "nbformat_minor": 5
}
